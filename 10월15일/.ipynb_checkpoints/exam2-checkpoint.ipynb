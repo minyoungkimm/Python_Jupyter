{
 "cells": [
  {
   "cell_type": "code",
   "execution_count": 2,
   "metadata": {},
   "outputs": [
    {
     "name": "stdout",
     "output_type": "stream",
     "text": [
      "WebDriver 객체 :  <class 'selenium.webdriver.chrome.webdriver.WebDriver'>\n"
     ]
    }
   ],
   "source": [
    "from selenium import webdriver\n",
    "from selenium.webdriver.common.keys import Keys \n",
    "\n",
    "driver = webdriver.Chrome('C:/Temp/chromedriver')\n",
    "print(\"WebDriver 객체 : \", type(driver))\n",
    "\n",
    "driver.get('http://www.google.com/ncr') \n",
    "target=driver.find_element_by_css_selector(\"[name = 'q']\")\n",
    "print(\"찾아온 태그 객체 : \", type(target))\n",
    "target.send_keys('파이썬')\n",
    "target.send_keys(Keys.ENTER)\n",
    "#driver.quit()"
   ]
  },
  {
   "cell_type": "code",
   "execution_count": 7,
   "metadata": {},
   "outputs": [
    {
     "name": "stdout",
     "output_type": "stream",
     "text": [
      "[]\n"
     ]
    }
   ],
   "source": [
    "import urllib.request\n",
    "from bs4 import BeautifulSoup\n",
    "#서버 접속\n",
    "server = urllib.request.urlopen(\"https://www.istarbucks.co.kr/store/store_map.do\")\n",
    "\n",
    "response =server.read().decode()\n",
    "bs = BeautifulSoup(response, \"html.parser\")\n",
    "li = bs.find_all('li', class_=\"quickResultLstCon\")\n",
    "print(li)"
   ]
  },
  {
   "cell_type": "code",
   "execution_count": 8,
   "metadata": {},
   "outputs": [
    {
     "name": "stdout",
     "output_type": "stream",
     "text": [
      "<class 'selenium.webdriver.remote.webelement.WebElement'>\n",
      "<class 'str'>\n",
      "선릉세화빌딩\n",
      "서울특별시 강남구 테헤란로64길 18, 세화빌딩 1층 (대치동)\n",
      "1522-3232\n",
      "리저브 매장 2번\n"
     ]
    }
   ],
   "source": [
    "#driver = webdriver.Chrome('C:/Temp/chromedriver')\n",
    "driver.implicitly_wait(3)\n",
    "driver.get(\"https://www.istarbucks.co.kr/store/store_map.do\")\n",
    "target=driver.find_element_by_class_name(\"quickResultLstCon\")\n",
    "\n",
    "print(type(target))\n",
    "print(type(target.text))\n",
    "print(target.text)\n",
    "#driver.quit()"
   ]
  },
  {
   "cell_type": "code",
   "execution_count": 9,
   "metadata": {},
   "outputs": [
    {
     "name": "stdout",
     "output_type": "stream",
     "text": [
      "[ webdriver 객체 정보 ]\n",
      "<class 'selenium.webdriver.chrome.webdriver.WebDriver'>\n",
      "<selenium.webdriver.chrome.webdriver.WebDriver (session=\"5045aff53a8e51255e5c61605fe04ea4\")>\n",
      "-----------------------------\n",
      "<class 'selenium.webdriver.remote.webelement.WebElement'>\n",
      "h1 : CSS 선택자 학습\n",
      "-----------------------------\n",
      "<class 'list'>\n",
      "h2 : 교육과정 소개\n",
      "h2 : 웹 클라이언트 기술\n",
      "h2 : 학습 순서(수집)\n"
     ]
    }
   ],
   "source": [
    "from selenium import webdriver\n",
    "\n",
    "driver = webdriver.Chrome('C:/Temp/chromedriver')\n",
    "driver.implicitly_wait(3)\n",
    "print('[ webdriver 객체 정보 ]')\n",
    "print(type(driver)) \n",
    "print(driver) \n",
    "driver.get('http://unico2013.dothome.co.kr/crawling/exercise_css.html')\n",
    "print('-----------------------------')\n",
    "byTagName = driver.find_element_by_tag_name('h1')\n",
    "print(type(byTagName))\n",
    "print(byTagName.tag_name, \":\", byTagName.text)\n",
    "print('-----------------------------')\n",
    "byTagNames = driver.find_elements_by_tag_name('h2')\n",
    "print(type(byTagNames))\n",
    "for tagName in byTagNames :\n",
    "    print(tagName.tag_name, \":\", tagName.text)\n",
    "#driver.quit()"
   ]
  },
  {
   "cell_type": "code",
   "execution_count": 10,
   "metadata": {},
   "outputs": [
    {
     "name": "stdout",
     "output_type": "stream",
     "text": [
      "<class 'selenium.webdriver.remote.webelement.WebElement'>\n",
      "h2 : 웹 클라이언트 기술\n",
      "-----------------------------\n",
      "<class 'list'>\n",
      "h2 : 웹 클라이언트 기술\n",
      "h2 : 학습 순서(수집)\n"
     ]
    }
   ],
   "source": [
    "from selenium import webdriver\n",
    "\n",
    "driver = webdriver.Chrome('C:/Temp/chromedriver')\n",
    "driver.implicitly_wait(3) \n",
    "\n",
    "driver.get('http://unico2013.dothome.co.kr/crawling/exercise_css.html')\n",
    "\n",
    "byClassName = driver.find_element_by_class_name('subtitle')\n",
    "print(type(byClassName))\n",
    "print(byClassName.tag_name, \":\", byClassName.text)\n",
    "print('-----------------------------')\n",
    "byClassNames = driver.find_elements_by_class_name('subtitle')\n",
    "print(type(byClassNames))\n",
    "for className in byClassNames :\n",
    "   print(className.tag_name, \":\", className.text)\n",
    "#driver.quit()\n"
   ]
  },
  {
   "cell_type": "code",
   "execution_count": 11,
   "metadata": {},
   "outputs": [
    {
     "name": "stdout",
     "output_type": "stream",
     "text": [
      "<class 'selenium.webdriver.remote.webelement.WebElement'>\n",
      "li : HTML5\n",
      "-----------------------------\n",
      "<class 'selenium.webdriver.remote.webelement.WebElement'>\n",
      "a : 파이썬 학습 사이트\n",
      "-----------------------------\n",
      "<class 'list'>\n",
      "a : HTML, CSS, JavaScript 학습 사이트\n",
      "a : 파이썬 학습 사이트\n"
     ]
    }
   ],
   "source": [
    "from selenium import webdriver\n",
    "\n",
    "driver = webdriver.Chrome('C:/Temp/chromedriver')\n",
    "driver.implicitly_wait(3) \n",
    "\n",
    "driver.get('http://unico2013.dothome.co.kr/crawling/exercise_css.html')\n",
    "\n",
    "byId = driver.find_element_by_id('btype')\n",
    "print(type(byId))\n",
    "print(byId.tag_name, \":\", byId.text)\n",
    "print('-----------------------------')\n",
    "byLinkText = driver.find_element_by_link_text('파이썬 학습 사이트')\n",
    "print(type(byLinkText))\n",
    "print(byLinkText.tag_name, \":\", byLinkText.text)\n",
    "print('-----------------------------')\n",
    "byPLinkText = driver.find_elements_by_partial_link_text('사이트')\n",
    "print(type(byPLinkText))\n",
    "for linkText in byPLinkText :\n",
    "   print(linkText.tag_name, \":\", linkText.text)\n",
    "#driver.quit()"
   ]
  },
  {
   "cell_type": "code",
   "execution_count": 12,
   "metadata": {},
   "outputs": [
    {
     "name": "stdout",
     "output_type": "stream",
     "text": [
      "<class 'selenium.webdriver.remote.webelement.WebElement'>\n",
      "h2 : 교육과정 소개\n",
      "-----------------------------\n",
      "<class 'selenium.webdriver.remote.webelement.WebElement'>\n",
      "h2 : 학습 순서(수집)\n",
      "-----------------------------\n",
      "<class 'selenium.webdriver.remote.webelement.WebElement'>\n",
      "li : JavaScript\n",
      "-----------------------------\n",
      "<class 'list'>\n",
      "li : CSS3\n",
      "li : Ajax\n"
     ]
    }
   ],
   "source": [
    "from selenium import webdriver\n",
    "\n",
    "driver = webdriver.Chrome('C:/Temp/chromedriver')\n",
    "driver.implicitly_wait(3) \n",
    "\n",
    "driver.get('http://unico2013.dothome.co.kr/crawling/exercise_css.html')\n",
    "\n",
    "byCss1 = driver.find_element_by_css_selector('section>h2')\n",
    "print(type(byCss1))\n",
    "print(byCss1.tag_name, \":\", byCss1.text)\n",
    "print('-----------------------------')\n",
    "byCss2 = driver.find_element_by_css_selector('aside>h2')\n",
    "print(type(byCss2))\n",
    "print(byCss2.tag_name, \":\", byCss2.text)\n",
    "print('-----------------------------')\n",
    "byCss3 = driver.find_element_by_css_selector('body > section > article > ul > li:nth-child(3)')\n",
    "print(type(byCss3))\n",
    "print(byCss3.tag_name, \":\", byCss3.text)\n",
    "print('-----------------------------')\n",
    "byCss4 = driver.find_elements_by_css_selector('ul>li.atype')\n",
    "print(type(byCss4))\n",
    "for byCss in byCss4 :\n",
    "   print(byCss.tag_name, \":\", byCss.text)\n",
    "#driver.quit()"
   ]
  },
  {
   "cell_type": "code",
   "execution_count": 13,
   "metadata": {},
   "outputs": [
    {
     "name": "stdout",
     "output_type": "stream",
     "text": [
      "<class 'selenium.webdriver.remote.webelement.WebElement'>\n",
      "h2 : 교육과정 소개\n",
      "-----------------------------\n",
      "<class 'selenium.webdriver.remote.webelement.WebElement'>\n",
      "li : JavaScript\n",
      "-----------------------------\n",
      "<class 'list'>\n",
      "li : CSS3\n",
      "li : Ajax\n"
     ]
    }
   ],
   "source": [
    "from selenium import webdriver\n",
    "\n",
    "driver = webdriver.Chrome('C:/Temp/chromedriver')\n",
    "driver.implicitly_wait(3) \n",
    "\n",
    "driver.get('http://unico2013.dothome.co.kr/crawling/exercise_css.html')\n",
    "\n",
    "byXpath1 = driver.find_element_by_xpath('//*[@id=\"f_subtitle\"]')\n",
    "print(type(byXpath1))\n",
    "print(byXpath1.tag_name, \":\", byXpath1.text)\n",
    "print('-----------------------------')\n",
    "byXpath2 = driver.find_element_by_xpath('/html/body/section/article/ul/li[3]')\n",
    "print(type(byXpath2))\n",
    "print(byXpath2.tag_name, \":\", byXpath2.text)\n",
    "print('-----------------------------')\n",
    "byXpath3 = driver.find_elements_by_xpath('//ul/li[@class=\"atype\"]')\n",
    "print(type(byXpath3))\n",
    "for byXpath in byXpath3 :\n",
    "   print(byXpath.tag_name, \":\", byXpath.text)\n",
    "#driver.quit()"
   ]
  },
  {
   "cell_type": "code",
   "execution_count": 14,
   "metadata": {},
   "outputs": [
    {
     "name": "stdout",
     "output_type": "stream",
     "text": [
      "<class 'selenium.webdriver.remote.webelement.WebElement'>\n",
      "img : https://www.python.org/static/img/python-logo.png\n",
      "-----------------------------\n",
      "<class 'list'>\n",
      "a : https://www.w3schools.com/\n",
      "a : https://www.python.org/\n"
     ]
    }
   ],
   "source": [
    "from selenium import webdriver\n",
    "\n",
    "driver = webdriver.Chrome('C:/Temp/chromedriver')\n",
    "driver.implicitly_wait(3) \n",
    "\n",
    "driver.get('http://unico2013.dothome.co.kr/crawling/exercise_css.html')\n",
    "\n",
    "byXpath1 = driver.find_element_by_xpath('//div/img')\n",
    "print(type(byXpath1))\n",
    "print(byXpath1.tag_name, \":\", byXpath1.get_attribute('src'))\n",
    "print('-----------------------------')\n",
    "byXpath2 = driver.find_elements_by_xpath('/html/body/header/nav/a')\n",
    "print(type(byXpath2))\n",
    "for byXpath in byXpath2 :\n",
    "   print(byXpath.tag_name, \":\", byXpath.get_attribute('href'))\n",
    "#driver.quit()"
   ]
  },
  {
   "cell_type": "code",
   "execution_count": 15,
   "metadata": {},
   "outputs": [
    {
     "ename": "ElementNotInteractableException",
     "evalue": "Message: element not interactable: element has zero size\n  (Session info: chrome=86.0.4240.75)\n",
     "output_type": "error",
     "traceback": [
      "\u001b[1;31m---------------------------------------------------------------------------\u001b[0m",
      "\u001b[1;31mElementNotInteractableException\u001b[0m           Traceback (most recent call last)",
      "\u001b[1;32m<ipython-input-15-d86a0f8e3fb6>\u001b[0m in \u001b[0;36m<module>\u001b[1;34m\u001b[0m\n\u001b[0;32m     30\u001b[0m     \u001b[1;31m##infoset_reviewContentList > div:nth-child(4) > div.reviewInfoBot.crop > a > div > span\u001b[0m\u001b[1;33m\u001b[0m\u001b[1;33m\u001b[0m\u001b[1;33m\u001b[0m\u001b[0m\n\u001b[0;32m     31\u001b[0m     \u001b[1;32mfor\u001b[0m \u001b[0mreadlink\u001b[0m \u001b[1;32min\u001b[0m \u001b[0mreadLinks\u001b[0m \u001b[1;33m:\u001b[0m\u001b[1;33m\u001b[0m\u001b[1;33m\u001b[0m\u001b[0m\n\u001b[1;32m---> 32\u001b[1;33m       \u001b[0mreadlink\u001b[0m\u001b[1;33m.\u001b[0m\u001b[0mclick\u001b[0m\u001b[1;33m(\u001b[0m\u001b[1;33m)\u001b[0m\u001b[1;33m\u001b[0m\u001b[1;33m\u001b[0m\u001b[0m\n\u001b[0m\u001b[0;32m     33\u001b[0m       \u001b[0mtime\u001b[0m\u001b[1;33m.\u001b[0m\u001b[0msleep\u001b[0m\u001b[1;33m(\u001b[0m\u001b[1;36m3\u001b[0m\u001b[1;33m)\u001b[0m\u001b[1;33m\u001b[0m\u001b[1;33m\u001b[0m\u001b[0m\n\u001b[0;32m     34\u001b[0m \u001b[1;33m\u001b[0m\u001b[0m\n",
      "\u001b[1;32m~\\anaconda3\\envs\\pydatavenv\\lib\\site-packages\\selenium\\webdriver\\remote\\webelement.py\u001b[0m in \u001b[0;36mclick\u001b[1;34m(self)\u001b[0m\n\u001b[0;32m     78\u001b[0m     \u001b[1;32mdef\u001b[0m \u001b[0mclick\u001b[0m\u001b[1;33m(\u001b[0m\u001b[0mself\u001b[0m\u001b[1;33m)\u001b[0m\u001b[1;33m:\u001b[0m\u001b[1;33m\u001b[0m\u001b[1;33m\u001b[0m\u001b[0m\n\u001b[0;32m     79\u001b[0m         \u001b[1;34m\"\"\"Clicks the element.\"\"\"\u001b[0m\u001b[1;33m\u001b[0m\u001b[1;33m\u001b[0m\u001b[0m\n\u001b[1;32m---> 80\u001b[1;33m         \u001b[0mself\u001b[0m\u001b[1;33m.\u001b[0m\u001b[0m_execute\u001b[0m\u001b[1;33m(\u001b[0m\u001b[0mCommand\u001b[0m\u001b[1;33m.\u001b[0m\u001b[0mCLICK_ELEMENT\u001b[0m\u001b[1;33m)\u001b[0m\u001b[1;33m\u001b[0m\u001b[1;33m\u001b[0m\u001b[0m\n\u001b[0m\u001b[0;32m     81\u001b[0m \u001b[1;33m\u001b[0m\u001b[0m\n\u001b[0;32m     82\u001b[0m     \u001b[1;32mdef\u001b[0m \u001b[0msubmit\u001b[0m\u001b[1;33m(\u001b[0m\u001b[0mself\u001b[0m\u001b[1;33m)\u001b[0m\u001b[1;33m:\u001b[0m\u001b[1;33m\u001b[0m\u001b[1;33m\u001b[0m\u001b[0m\n",
      "\u001b[1;32m~\\anaconda3\\envs\\pydatavenv\\lib\\site-packages\\selenium\\webdriver\\remote\\webelement.py\u001b[0m in \u001b[0;36m_execute\u001b[1;34m(self, command, params)\u001b[0m\n\u001b[0;32m    631\u001b[0m             \u001b[0mparams\u001b[0m \u001b[1;33m=\u001b[0m \u001b[1;33m{\u001b[0m\u001b[1;33m}\u001b[0m\u001b[1;33m\u001b[0m\u001b[1;33m\u001b[0m\u001b[0m\n\u001b[0;32m    632\u001b[0m         \u001b[0mparams\u001b[0m\u001b[1;33m[\u001b[0m\u001b[1;34m'id'\u001b[0m\u001b[1;33m]\u001b[0m \u001b[1;33m=\u001b[0m \u001b[0mself\u001b[0m\u001b[1;33m.\u001b[0m\u001b[0m_id\u001b[0m\u001b[1;33m\u001b[0m\u001b[1;33m\u001b[0m\u001b[0m\n\u001b[1;32m--> 633\u001b[1;33m         \u001b[1;32mreturn\u001b[0m \u001b[0mself\u001b[0m\u001b[1;33m.\u001b[0m\u001b[0m_parent\u001b[0m\u001b[1;33m.\u001b[0m\u001b[0mexecute\u001b[0m\u001b[1;33m(\u001b[0m\u001b[0mcommand\u001b[0m\u001b[1;33m,\u001b[0m \u001b[0mparams\u001b[0m\u001b[1;33m)\u001b[0m\u001b[1;33m\u001b[0m\u001b[1;33m\u001b[0m\u001b[0m\n\u001b[0m\u001b[0;32m    634\u001b[0m \u001b[1;33m\u001b[0m\u001b[0m\n\u001b[0;32m    635\u001b[0m     \u001b[1;32mdef\u001b[0m \u001b[0mfind_element\u001b[0m\u001b[1;33m(\u001b[0m\u001b[0mself\u001b[0m\u001b[1;33m,\u001b[0m \u001b[0mby\u001b[0m\u001b[1;33m=\u001b[0m\u001b[0mBy\u001b[0m\u001b[1;33m.\u001b[0m\u001b[0mID\u001b[0m\u001b[1;33m,\u001b[0m \u001b[0mvalue\u001b[0m\u001b[1;33m=\u001b[0m\u001b[1;32mNone\u001b[0m\u001b[1;33m)\u001b[0m\u001b[1;33m:\u001b[0m\u001b[1;33m\u001b[0m\u001b[1;33m\u001b[0m\u001b[0m\n",
      "\u001b[1;32m~\\anaconda3\\envs\\pydatavenv\\lib\\site-packages\\selenium\\webdriver\\remote\\webdriver.py\u001b[0m in \u001b[0;36mexecute\u001b[1;34m(self, driver_command, params)\u001b[0m\n\u001b[0;32m    319\u001b[0m         \u001b[0mresponse\u001b[0m \u001b[1;33m=\u001b[0m \u001b[0mself\u001b[0m\u001b[1;33m.\u001b[0m\u001b[0mcommand_executor\u001b[0m\u001b[1;33m.\u001b[0m\u001b[0mexecute\u001b[0m\u001b[1;33m(\u001b[0m\u001b[0mdriver_command\u001b[0m\u001b[1;33m,\u001b[0m \u001b[0mparams\u001b[0m\u001b[1;33m)\u001b[0m\u001b[1;33m\u001b[0m\u001b[1;33m\u001b[0m\u001b[0m\n\u001b[0;32m    320\u001b[0m         \u001b[1;32mif\u001b[0m \u001b[0mresponse\u001b[0m\u001b[1;33m:\u001b[0m\u001b[1;33m\u001b[0m\u001b[1;33m\u001b[0m\u001b[0m\n\u001b[1;32m--> 321\u001b[1;33m             \u001b[0mself\u001b[0m\u001b[1;33m.\u001b[0m\u001b[0merror_handler\u001b[0m\u001b[1;33m.\u001b[0m\u001b[0mcheck_response\u001b[0m\u001b[1;33m(\u001b[0m\u001b[0mresponse\u001b[0m\u001b[1;33m)\u001b[0m\u001b[1;33m\u001b[0m\u001b[1;33m\u001b[0m\u001b[0m\n\u001b[0m\u001b[0;32m    322\u001b[0m             response['value'] = self._unwrap_value(\n\u001b[0;32m    323\u001b[0m                 response.get('value', None))\n",
      "\u001b[1;32m~\\anaconda3\\envs\\pydatavenv\\lib\\site-packages\\selenium\\webdriver\\remote\\errorhandler.py\u001b[0m in \u001b[0;36mcheck_response\u001b[1;34m(self, response)\u001b[0m\n\u001b[0;32m    240\u001b[0m                 \u001b[0malert_text\u001b[0m \u001b[1;33m=\u001b[0m \u001b[0mvalue\u001b[0m\u001b[1;33m[\u001b[0m\u001b[1;34m'alert'\u001b[0m\u001b[1;33m]\u001b[0m\u001b[1;33m.\u001b[0m\u001b[0mget\u001b[0m\u001b[1;33m(\u001b[0m\u001b[1;34m'text'\u001b[0m\u001b[1;33m)\u001b[0m\u001b[1;33m\u001b[0m\u001b[1;33m\u001b[0m\u001b[0m\n\u001b[0;32m    241\u001b[0m             \u001b[1;32mraise\u001b[0m \u001b[0mexception_class\u001b[0m\u001b[1;33m(\u001b[0m\u001b[0mmessage\u001b[0m\u001b[1;33m,\u001b[0m \u001b[0mscreen\u001b[0m\u001b[1;33m,\u001b[0m \u001b[0mstacktrace\u001b[0m\u001b[1;33m,\u001b[0m \u001b[0malert_text\u001b[0m\u001b[1;33m)\u001b[0m\u001b[1;33m\u001b[0m\u001b[1;33m\u001b[0m\u001b[0m\n\u001b[1;32m--> 242\u001b[1;33m         \u001b[1;32mraise\u001b[0m \u001b[0mexception_class\u001b[0m\u001b[1;33m(\u001b[0m\u001b[0mmessage\u001b[0m\u001b[1;33m,\u001b[0m \u001b[0mscreen\u001b[0m\u001b[1;33m,\u001b[0m \u001b[0mstacktrace\u001b[0m\u001b[1;33m)\u001b[0m\u001b[1;33m\u001b[0m\u001b[1;33m\u001b[0m\u001b[0m\n\u001b[0m\u001b[0;32m    243\u001b[0m \u001b[1;33m\u001b[0m\u001b[0m\n\u001b[0;32m    244\u001b[0m     \u001b[1;32mdef\u001b[0m \u001b[0m_value_or_default\u001b[0m\u001b[1;33m(\u001b[0m\u001b[0mself\u001b[0m\u001b[1;33m,\u001b[0m \u001b[0mobj\u001b[0m\u001b[1;33m,\u001b[0m \u001b[0mkey\u001b[0m\u001b[1;33m,\u001b[0m \u001b[0mdefault\u001b[0m\u001b[1;33m)\u001b[0m\u001b[1;33m:\u001b[0m\u001b[1;33m\u001b[0m\u001b[1;33m\u001b[0m\u001b[0m\n",
      "\u001b[1;31mElementNotInteractableException\u001b[0m: Message: element not interactable: element has zero size\n  (Session info: chrome=86.0.4240.75)\n"
     ]
    }
   ],
   "source": [
    "from selenium import webdriver\n",
    "\n",
    "driver = webdriver.Chrome('C:/Temp/chromedriver')\n",
    "driver.implicitly_wait(3) \n",
    "\n",
    "driver.get(\"http://www.yes24.com/Product/goods/40936880\")\n",
    "import time\n",
    "time.sleep(2)\n",
    "readLinks = driver.find_elements_by_css_selector('#infoset_reviewContentList  div.btn_halfMore > a')\n",
    "\n",
    "for readlink in readLinks :\n",
    "    readlink.click()\n",
    "    time.sleep(1)\n",
    "\n",
    "reviewList = driver.find_elements_by_css_selector('#infoset_reviewContentList div.reviewInfoBot.origin div.review_cont')\n",
    "\n",
    "temp_list = []\n",
    "time.sleep(3)\n",
    "\n",
    "for review in reviewList :    \n",
    "    temp_list.append(review.text)\n",
    "stopFlag = False\n",
    "while 1 :\n",
    "  for n in range(4, 13) :\n",
    "    linkurl = '#infoset_reviewContentList > div.review_sort.sortBot > div.review_sortLft > div > a:nth-child('+str(n)+')'\n",
    "    linkNum = driver.find_element_by_css_selector(linkurl)\n",
    "    linkNum.click()   \n",
    "    time.sleep(6)\n",
    "    readLinks = driver.find_elements_by_css_selector('#infoset_reviewContentList span.review_more')\n",
    "    ##infoset_reviewContentList > div:nth-child(4) > div.reviewInfoBot.crop > a > div > span\n",
    "    for readlink in readLinks :\n",
    "      readlink.click()\n",
    "      time.sleep(3)\n",
    "\n",
    "    reviewList = driver.find_elements_by_css_selector('#infoset_reviewContentList div.reviewInfoBot.origin div.review_cont')\n",
    "    time.sleep(2)\n",
    "\n",
    "    for review in reviewList :    \n",
    "      temp_list.append(review.text)\n",
    "    \n",
    "    if len(reviewList) < 5 :\n",
    "      stopFlag = True\n",
    "      break\n",
    "      \n",
    "  if stopFlag == True :\n",
    "    break\n",
    "  nextPage = '#infoset_reviewContentList > div.review_sort.sortBot > div.review_sortLft > div > a.bgYUI.next'\n",
    "  linkNum = driver.find_element_by_css_selector(nextPage)\n",
    "  linkNum.click()\n",
    "  time.sleep(1)\n",
    "\n",
    "for item in temp_list :\n",
    "    print(item)\n",
    "\n",
    "wfile = open(\"c:/Temp/yes24file.txt\",\"w\") \n",
    "wfile.writelines(temp_list) \n",
    "wfile.close()\n",
    "\n",
    "\n"
   ]
  },
  {
   "cell_type": "code",
   "execution_count": null,
   "metadata": {},
   "outputs": [],
   "source": [
    "from selenium import webdriver\n",
    "\n",
    "driver = webdriver.Chrome('C:/Temp/chromedriver')\n",
    "\n",
    "driver.get('http://www.python.org/')\n",
    "driver.implicitly_wait(3)\n",
    "driver.get_screenshot_as_file('c:/Temp/python_main.png')\n",
    "print('캡쳐 저장 완료')\n",
    "import time\n",
    "time.sleep(2)\n",
    "driver.quit()"
   ]
  },
  {
   "cell_type": "code",
   "execution_count": null,
   "metadata": {},
   "outputs": [],
   "source": [
    "from selenium import webdriver\n",
    "\n",
    "options = webdriver.ChromeOptions()\n",
    "options.add_argument('headless')\n",
    "options.add_argument('window-size=1920x1080')\n",
    "\n",
    "driver = webdriver.Chrome('C:/Temp/chromedriver', options=options)\n",
    "\n",
    "driver.get('http://www.python.org/')\n",
    "driver.implicitly_wait(3)\n",
    "driver.get_screenshot_as_file('c:/Temp/main_main_headless.png')\n",
    "print('캡쳐 저장 완료')\n",
    "import time\n",
    "time.sleep(2)\n",
    "driver.quit()"
   ]
  },
  {
   "cell_type": "code",
   "execution_count": 16,
   "metadata": {},
   "outputs": [
    {
     "name": "stdout",
     "output_type": "stream",
     "text": [
      "527\n"
     ]
    }
   ],
   "source": [
    "from selenium import webdriver\n",
    "\n",
    "driver = webdriver.Chrome('C:/Temp/chromedriver')\n",
    "driver.implicitly_wait(3) \n",
    "\n",
    "driver.get(\"https://www.istarbucks.co.kr/store/store_map.do\")\n",
    "import time\n",
    "time.sleep(2)\n",
    "loca = driver.find_element_by_class_name('loca_search')\n",
    "loca.click()\n",
    "time.sleep(2)\n",
    "f_link = driver.find_element_by_css_selector(\"div.loca_step1_cont > ul > li:nth-child(1) > a\")\n",
    "f_link.click()\n",
    "time.sleep(2)\n",
    "s_link = driver.find_element_by_css_selector(\"#mCSB_2_container > ul > li:nth-child(1) > a\")\n",
    "s_link.click()\n",
    "time.sleep(2)\n",
    "shopList = driver.find_elements_by_css_selector(\"#mCSB_3_container > ul > li\")\n",
    "\n",
    "temp_list = []\n",
    "time.sleep(3)\n",
    "count = 0\n",
    "total = len(shopList)\n",
    "print(total)\n",
    "for shop in shopList :    \n",
    "    count += 1\n",
    "    #print(count)\n",
    "    shoplat = shop.get_attribute(\"data-lat\")\n",
    "    shoplong = shop.get_attribute(\"data-long\")\n",
    "    shopname = shop.find_element_by_tag_name(\"strong\")\n",
    "    shopinfo = shop.find_element_by_tag_name(\"p\")\n",
    "    splitinfo = shopinfo.text.split('\\n')\n",
    "    if(len(splitinfo) == 2):\n",
    "        addr = splitinfo[0]\n",
    "        phonenum = splitinfo[1]\n",
    "    temp_list.append([shopname.text, shoplat, shoplong, addr, phonenum])\n",
    "    if count != total and count % 3 == 0:\n",
    "        driver.execute_script(\"var su = arguments[0]; var dom=document.querySelectorAll('#mCSB_3_container > ul > li')[su]; dom.scrollIntoView();\", count)\n",
    "with open('C:/Temp/starbucks_shop.txt', \"wt\", encoding=\"utf-8\") as f:\n",
    "    for item in temp_list :\n",
    "        f.write(str(item)+'\\n')"
   ]
  },
  {
   "cell_type": "code",
   "execution_count": null,
   "metadata": {},
   "outputs": [],
   "source": []
  }
 ],
 "metadata": {
  "kernelspec": {
   "display_name": "pydatavenv",
   "language": "python",
   "name": "pydatavenv"
  },
  "language_info": {
   "codemirror_mode": {
    "name": "ipython",
    "version": 3
   },
   "file_extension": ".py",
   "mimetype": "text/x-python",
   "name": "python",
   "nbconvert_exporter": "python",
   "pygments_lexer": "ipython3",
   "version": "3.7.9"
  }
 },
 "nbformat": 4,
 "nbformat_minor": 4
}
