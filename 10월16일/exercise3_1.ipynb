{
 "cells": [
  {
   "cell_type": "code",
   "execution_count": 1,
   "metadata": {},
   "outputs": [],
   "source": [
    "from selenium import webdriver\n",
    "from selenium.webdriver.common.keys import Keys \n",
    "\n",
    "driver = webdriver.Chrome('C:/Temp/chromedriver')\n",
    "\n",
    "### CSS 선택자\n",
    "driver.get('https://www.naver.com/') \n",
    "target=driver.find_element_by_css_selector(\"[name = 'query']\")\n",
    "target.send_keys('파이썬')\n",
    "target.send_keys(Keys.ENTER)\n"
   ]
  },
  {
   "cell_type": "code",
   "execution_count": 2,
   "metadata": {},
   "outputs": [],
   "source": [
    "### id 속성\n",
    "driver.get(\"https://www.naver.com/\")\n",
    "target=driver.find_element_by_id(\"query\")\n",
    "target.send_keys('파이썬')\n",
    "target.send_keys(Keys.ENTER)\n"
   ]
  },
  {
   "cell_type": "code",
   "execution_count": 3,
   "metadata": {},
   "outputs": [],
   "source": [
    "### class 속성\n",
    "driver.get(\"https://www.naver.com/\")\n",
    "target=driver.find_element_by_class_name(\"input_text\")\n",
    "target.send_keys('파이썬')\n",
    "target.send_keys(Keys.ENTER)\n"
   ]
  }
 ],
 "metadata": {
  "kernelspec": {
   "display_name": "pydatavenv",
   "language": "python",
   "name": "pydatavenv"
  },
  "language_info": {
   "codemirror_mode": {
    "name": "ipython",
    "version": 3
   },
   "file_extension": ".py",
   "mimetype": "text/x-python",
   "name": "python",
   "nbconvert_exporter": "python",
   "pygments_lexer": "ipython3",
   "version": "3.7.9"
  }
 },
 "nbformat": 4,
 "nbformat_minor": 4
}
