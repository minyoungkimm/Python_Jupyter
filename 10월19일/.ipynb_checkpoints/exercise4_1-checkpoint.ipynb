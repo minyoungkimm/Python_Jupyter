{
 "cells": [
  {
   "cell_type": "code",
   "execution_count": 13,
   "metadata": {},
   "outputs": [
    {
     "name": "stdout",
     "output_type": "stream",
     "text": [
      "[쌀국수집에 대한 네이버 지역 정보(XML)]\n",
      "1 : 호아빈 서울시청점,없음,서울특별시 중구 서소문동 14-2\n",
      "2 : 포리엔,없음,서울특별시 중구 소공동 85-2\n",
      "3 : 72420,없음,서울특별시 동작구 사당동 1039-16\n",
      "4 : 레호이 소월길 본점,없음,서울특별시 용산구 이태원동 261-9\n",
      "5 : 에머이 종로1호점(본점),없음,서울특별시 종로구 관철동 16-9\n"
     ]
    }
   ],
   "source": [
    "import urllib.request\n",
    "from bs4 import BeautifulSoup\n",
    "import xml\n",
    "\n",
    "client_key = 'izGsqP2exeThwwEUVU3x'\n",
    "client_secret = 'WrwbQ1l6ZI'\n",
    "query = '쌀국수'\n",
    "encText = urllib.parse.quote_plus(query)\n",
    "\n",
    "num = 5\n",
    "naver_url = 'https://openapi.naver.com/v1/search/local.xml?query=' + encText + '&display=' + str(num)\n",
    "\n",
    "request = urllib.request.Request(naver_url)\n",
    "request.add_header(\"X-Naver-Client-Id\",client_key)\n",
    "request.add_header(\"X-Naver-Client-Secret\",client_secret)\n",
    "response = urllib.request.urlopen(request)\n",
    "\n",
    "rescode = response.getcode()\n",
    "\n",
    "if(rescode == 200):\n",
    "    response_body = response.read()\n",
    "    soup = BeautifulSoup(response_body, 'xml')\n",
    "    count = 1\n",
    "    print('[' + query + '집에 대한 네이버 지역 정보(XML)]',sep='')\n",
    "    for itemList in soup.find_all('item') :\n",
    "        title = itemList.find('title').string\n",
    "        address = itemList.find('address').string\n",
    "        tel = itemList.find('telephone').string\n",
    "        tel = '없음' if tel is None else tel\n",
    "        print (str(count) + ' : ' + title + ',' + tel + ',' + address)\n",
    "        count += 1\n",
    "else:\n",
    "    print('오류 코드 : ' + rescode)\n"
   ]
  },
  {
   "cell_type": "code",
   "execution_count": 14,
   "metadata": {},
   "outputs": [
    {
     "name": "stdout",
     "output_type": "stream",
     "text": [
      "[쌀국수집에 대한 네이버 지역 정보(JSON)]\n",
      "1 : 호아빈 서울시청점,,서울특별시 중구 서소문동 14-2\n",
      "2 : 포리엔,,서울특별시 중구 소공동 85-2\n",
      "3 : 72420,,서울특별시 동작구 사당동 1039-16\n",
      "4 : 레호이 소월길 본점,,서울특별시 용산구 이태원동 261-9\n",
      "5 : 에머이 종로1호점(본점),,서울특별시 종로구 관철동 16-9\n"
     ]
    }
   ],
   "source": [
    "import urllib.request\n",
    "import json\n",
    "\n",
    "client_key = 'izGsqP2exeThwwEUVU3x'\n",
    "client_secret = 'WrwbQ1l6ZI'\n",
    "query = '쌀국수'\n",
    "encText = urllib.parse.quote_plus(query)\n",
    "\n",
    "num = 5\n",
    "naver_url = 'https://openapi.naver.com/v1/search/local.json?query=' + encText + '&display=' + str(num)\n",
    "\n",
    "request = urllib.request.Request(naver_url)\n",
    "request.add_header(\"X-Naver-Client-Id\",client_key)\n",
    "request.add_header(\"X-Naver-Client-Secret\",client_secret)\n",
    "response = urllib.request.urlopen(request)\n",
    "\n",
    "rescode = response.getcode()\n",
    "\n",
    "if(rescode == 200):\n",
    "    response_body = response.read()\n",
    "    dataList = json.loads(response_body)\n",
    "    count = 1\n",
    "    print('[' + query + '집에 대한 네이버 지역 정보(JSON)]',sep='')\n",
    "    for data in dataList['items'] :\n",
    "        print (str(count) + ' : ' + data['title'] + ',' + data['telephone'] + ',' + data['address'])\n",
    "        count += 1\n",
    "else:\n",
    "    print('오류 코드 : ' + rescode)"
   ]
  },
  {
   "cell_type": "code",
   "execution_count": null,
   "metadata": {},
   "outputs": [],
   "source": []
  }
 ],
 "metadata": {
  "kernelspec": {
   "display_name": "pydatavenv",
   "language": "python",
   "name": "pydatavenv"
  },
  "language_info": {
   "codemirror_mode": {
    "name": "ipython",
    "version": 3
   },
   "file_extension": ".py",
   "mimetype": "text/x-python",
   "name": "python",
   "nbconvert_exporter": "python",
   "pygments_lexer": "ipython3",
   "version": "3.7.9"
  }
 },
 "nbformat": 4,
 "nbformat_minor": 4
}
