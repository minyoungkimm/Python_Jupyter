{
 "cells": [
  {
   "cell_type": "code",
   "execution_count": 7,
   "metadata": {},
   "outputs": [],
   "source": [
    "import pandas as pd"
   ]
  },
  {
   "cell_type": "code",
   "execution_count": 71,
   "metadata": {},
   "outputs": [
    {
     "name": "stdout",
     "output_type": "stream",
     "text": [
      "<class 'pandas.core.series.Series'>\n",
      "0    10\n",
      "1    20\n",
      "2    30\n",
      "3    40\n",
      "4    50\n",
      "dtype: int64\n"
     ]
    }
   ],
   "source": [
    "#(1)\n",
    "v1 = [10,20,30,40,50]\n",
    "#v1 = list(range(10,51,10))\n",
    "\n",
    "sr1 = pd.Series(v1)\n",
    "print(type(sr1))\n",
    "print(sr1)"
   ]
  },
  {
   "cell_type": "code",
   "execution_count": 11,
   "metadata": {},
   "outputs": [
    {
     "name": "stdout",
     "output_type": "stream",
     "text": [
      "<class 'pandas.core.series.Series'>\n",
      "a    1\n",
      "b    2\n",
      "c    3\n",
      "d    4\n",
      "e    5\n",
      "dtype: int64\n"
     ]
    }
   ],
   "source": [
    "#(2)\n",
    "v2 = {'a': 1, 'b': 2, 'c': 3, 'd': 4, 'e': 5}\n",
    "sr2 = pd.Series(v2)\n",
    "print(type(sr2))\n",
    "print(sr2)"
   ]
  },
  {
   "cell_type": "code",
   "execution_count": 12,
   "metadata": {},
   "outputs": [
    {
     "name": "stdout",
     "output_type": "stream",
     "text": [
      "<class 'pandas.core.series.Series'>\n",
      "학생1     둘리\n",
      "학생2     또치\n",
      "학생3    도우너\n",
      "학생4    희동이\n",
      "학생5    마이콜\n",
      "dtype: object\n"
     ]
    }
   ],
   "source": [
    "#(3)\n",
    "v3 = {'학생1':'둘리','학생2':'또치','학생3':'도우너','학생4':'희동이','학생5':'마이콜'}\n",
    "sr3 = pd.Series(v3)\n",
    "print(type(sr3))\n",
    "print(sr3)"
   ]
  },
  {
   "cell_type": "code",
   "execution_count": 13,
   "metadata": {},
   "outputs": [
    {
     "name": "stdout",
     "output_type": "stream",
     "text": [
      "<class 'pandas.core.series.Series'>\n",
      "학생1     둘리\n",
      "학생2     또치\n",
      "학생3    도우너\n",
      "학생4    희동이\n",
      "학생5    마이콜\n",
      "dtype: object\n"
     ]
    }
   ],
   "source": [
    "#(4)\n",
    "sr4 = pd.Series(['둘리','또치','도우너','희동이','마이콜'], index=['학생1','학생2','학생3','학생4','학생5'])\n",
    "print(type(sr4))\n",
    "print(sr4)"
   ]
  },
  {
   "cell_type": "code",
   "execution_count": 72,
   "metadata": {},
   "outputs": [
    {
     "name": "stdout",
     "output_type": "stream",
     "text": [
      "[시리즈 sr 출력]\n",
      "A형     34.2\n",
      "B형     27.1\n",
      "O형     26.7\n",
      "AB형    11.5\n",
      "dtype: float64\n",
      "[시리즈 sr에서 인덱싱과 슬라이싱하여 출력(숫자인덱스 사용)]\n",
      "34.2\n",
      "11.5\n",
      "27.1\n",
      "B형     27.1\n",
      "O형     26.7\n",
      "AB형    11.5\n",
      "dtype: float64\n",
      "[시리즈 sr에서 인덱싱과 슬라이싱하여 출력(이름인덱스 사용)]\n",
      "34.2\n",
      "11.5\n",
      "27.1\n",
      "B형     27.1\n",
      "O형     26.7\n",
      "AB형    11.5\n",
      "dtype: float64\n",
      "[시리즈 sr의 크기 출력]\n",
      "4\n",
      "[시리즈 sr의 인덱스 출력]\n",
      "Index(['A형', 'B형', 'O형', 'AB형'], dtype='object')\n",
      "시리즈 sr의 데이터 값 출력\n",
      "[34.2 27.1 26.7 11.5]\n"
     ]
    }
   ],
   "source": [
    "#(5)\n",
    "blood = ['A형', 'B형', 'O형', 'AB형']\n",
    "st = [34.2, 27.1, 26.7, 11.5]\n",
    "sr = pd.Series(st, index=blood)\n",
    "\n",
    "print('[시리즈 sr 출력]')\n",
    "print(sr)\n",
    "print('[시리즈 sr에서 인덱싱과 슬라이싱하여 출력(숫자인덱스 사용)]')\n",
    "print(sr[0])\n",
    "print(sr[-1])\n",
    "print(sr[1])\n",
    "print(sr[1:4])\n",
    "print('[시리즈 sr에서 인덱싱과 슬라이싱하여 출력(이름인덱스 사용)]')\n",
    "print(sr['A형'])\n",
    "print(sr['AB형'])\n",
    "print(sr['B형'])\n",
    "print(sr['B형':'AB형'])\n",
    "print('[시리즈 sr의 크기 출력]')\n",
    "print(len(sr))\n",
    "print('[시리즈 sr의 인덱스 출력]')\n",
    "print(sr.index)\n",
    "print('시리즈 sr의 데이터 값 출력')\n",
    "print(sr.values)"
   ]
  },
  {
   "cell_type": "code",
   "execution_count": 28,
   "metadata": {},
   "outputs": [
    {
     "name": "stdout",
     "output_type": "stream",
     "text": [
      "<class 'pandas.core.frame.DataFrame'>\n",
      "  name  kor  eng  mat\n",
      "0   둘리   90   99   90\n",
      "1   또치   80   98   70\n",
      "2  도우너   70   97   70\n",
      "3  희동이   70   46   60\n"
     ]
    }
   ],
   "source": [
    "#(6)\n",
    "df1 = pd.DataFrame([['둘리',90,99,90], ['또치',80,98,70],['도우너',70,97,70],['희동이',70,46,60]], \n",
    "                   columns=['name', 'kor', 'eng','mat'])\n",
    "print(type(df1))\n",
    "print(df1)"
   ]
  },
  {
   "cell_type": "code",
   "execution_count": 30,
   "metadata": {},
   "outputs": [
    {
     "name": "stdout",
     "output_type": "stream",
     "text": [
      "<class 'pandas.core.frame.DataFrame'>\n",
      "    name  kor  eng  mat\n",
      "학생1   둘리   90   99   90\n",
      "학생2   또치   80   98   70\n",
      "학생3  도우너   70   97   70\n",
      "학생4  희동이   70   46   60\n"
     ]
    }
   ],
   "source": [
    "#(7)\n",
    "df2 = pd.DataFrame([['둘리',90,99,90], ['또치',80,98,70],['도우너',70,97,70],['희동이',70,46,60]], \n",
    "                   index = ['학생1','학생2','학생3','학생4'],\n",
    "                   columns=['name', 'kor', 'eng','mat'])\n",
    "print(type(df2))\n",
    "print(df2)"
   ]
  },
  {
   "cell_type": "code",
   "execution_count": 31,
   "metadata": {},
   "outputs": [
    {
     "name": "stdout",
     "output_type": "stream",
     "text": [
      "    dooly  doochi  dounar  heedong\n",
      "st1    둘리      90      99       90\n",
      "st2    또치      80      98       70\n",
      "st3   도우너      70      97       70\n",
      "st4   희동이      70      46       60\n"
     ]
    }
   ],
   "source": [
    "#(8)\n",
    "df2.index = ['st1','st2','st3','st4']\n",
    "df2.columns = ['dooly','doochi','dounar','heedong']\n",
    "print(df2)"
   ]
  },
  {
   "cell_type": "code",
   "execution_count": 67,
   "metadata": {},
   "outputs": [
    {
     "name": "stdout",
     "output_type": "stream",
     "text": [
      "  name  kor  eng  mat\n",
      "0  듀크1   90   99   90\n",
      "1  듀크2   80   98   70\n",
      "2  듀크3   70   97   70\n",
      "3  듀크4   70   46   60\n",
      "4  듀크5   60   77   88\n",
      "  name  kor  eng  mat\n",
      "2  듀크3   70   97   70\n",
      "3  듀크4   70   46   60\n",
      "4  듀크5   60   77   88\n",
      "5  듀크6   70   56   99\n",
      "6  듀크7   90   90   90\n",
      "Index(['name', 'kor', 'eng', 'mat'], dtype='object')\n",
      "0    듀크1\n",
      "1    듀크2\n",
      "2    듀크3\n",
      "3    듀크4\n",
      "4    듀크5\n",
      "5    듀크6\n",
      "6    듀크7\n",
      "Name: name, dtype: object\n",
      "0    99\n",
      "1    98\n",
      "2    97\n",
      "3    46\n",
      "4    77\n",
      "5    56\n",
      "6    90\n",
      "Name: eng, dtype: int64\n",
      "   kor  mat\n",
      "0   90   90\n",
      "1   80   70\n",
      "2   70   70\n",
      "3   70   60\n",
      "4   60   88\n",
      "5   70   99\n",
      "6   90   90\n",
      "iloc 함수 사용 -----------------\n",
      "name    듀크4\n",
      "kor      70\n",
      "eng      46\n",
      "mat      60\n",
      "Name: 3, dtype: object\n",
      "듀크1\n",
      "46\n",
      "2    97\n",
      "3    46\n",
      "Name: eng, dtype: int64\n",
      "   eng  mat\n",
      "2   97   70\n",
      "3   46   60\n",
      "loc 함수 사용 ------------------\n",
      "name    듀크4\n",
      "kor      70\n",
      "eng      46\n",
      "mat      60\n",
      "Name: 3, dtype: object\n",
      "듀크1\n",
      "46\n",
      "2    97\n",
      "3    46\n",
      "Name: eng, dtype: int64\n",
      "   eng  mat\n",
      "2   97   70\n",
      "3   46   60\n"
     ]
    }
   ],
   "source": [
    "#(9)\n",
    "data = {\n",
    "    'name':['듀크1', '듀크2', '듀크3', '듀크4', '듀크5', '듀크6', '듀크7'],\n",
    "    'kor':[90, 80, 70, 70, 60, 70, 90],\n",
    "    'eng':[99, 98, 97, 46, 77, 56, 90],\n",
    "    'mat':[90, 70, 70, 60, 88, 99, 90],\n",
    "}\n",
    "df = pd.DataFrame(data)      \n",
    "#print(df)\n",
    "print(df[0:5]) #head()\n",
    "print(df[-5:]) #tail()\n",
    "print(df.columns)\n",
    "print(df['name'])\n",
    "print(df.eng)\n",
    "print(df[['kor','mat']])\n",
    "print('iloc 함수 사용 -----------------')\n",
    "print(df.iloc[3])\n",
    "print(df.iloc[0,0])\n",
    "print(df.iloc[3,2])\n",
    "print(df.iloc[2:4,2])\n",
    "print(df.iloc[2:4,2:4])\n",
    "print('loc 함수 사용 ------------------')\n",
    "print(df.loc[3])\n",
    "print(df.loc[0,'name'])\n",
    "print(df.loc[3,'eng'])\n",
    "print(df.loc[2:3,'eng'])\n",
    "print(df.loc[2:3,'eng':'mat'])"
   ]
  },
  {
   "cell_type": "code",
   "execution_count": 65,
   "metadata": {},
   "outputs": [
    {
     "name": "stdout",
     "output_type": "stream",
     "text": [
      "      kor  eng  mat\n",
      "name               \n",
      "듀크1    90   99   90\n",
      "듀크2    80   98   70\n",
      "듀크3    70   97   70\n",
      "듀크4    70   46   60\n",
      "듀크5    60   77   88\n",
      "듀크6    70   56   99\n",
      "듀크7    90   90   90\n"
     ]
    }
   ],
   "source": [
    "#(10)\n",
    "df.set_index('name', inplace=True)\n",
    "print(df)"
   ]
  }
 ],
 "metadata": {
  "kernelspec": {
   "display_name": "pydatavenv",
   "language": "python",
   "name": "pydatavenv"
  },
  "language_info": {
   "codemirror_mode": {
    "name": "ipython",
    "version": 3
   },
   "file_extension": ".py",
   "mimetype": "text/x-python",
   "name": "python",
   "nbconvert_exporter": "python",
   "pygments_lexer": "ipython3",
   "version": "3.7.9"
  }
 },
 "nbformat": 4,
 "nbformat_minor": 4
}
