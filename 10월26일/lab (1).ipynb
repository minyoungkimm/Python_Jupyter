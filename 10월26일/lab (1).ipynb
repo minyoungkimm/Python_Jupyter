{
 "cells": [
  {
   "cell_type": "code",
   "execution_count": null,
   "metadata": {},
   "outputs": [],
   "source": [
    "import urllib.request\n",
    "import urllib.parse\n",
    "\n",
    "params = urllib.parse.urlencode({'category': '역사', 'page': 25})\n",
    "url = \"http://unico2013.dothome.co.kr/crawling/exercise.php?%s\" % params\n",
    "with urllib.request.urlopen(url) as f:     \n",
    "    print(f.read().decode('utf-8'))"
   ]
  },
  {
   "cell_type": "code",
   "execution_count": null,
   "metadata": {},
   "outputs": [],
   "source": [
    "import requests\n",
    "\n",
    "dicdata = {'category': '여행', 'page': '100'}\n",
    "urlstr = 'http://unico2013.dothome.co.kr/crawling/exercise.php'\n",
    "r = requests.get(urlstr, params=dicdata)\n",
    "r.encoding = 'utf-8'\n",
    "print(r.text)"
   ]
  },
  {
   "cell_type": "code",
   "execution_count": null,
   "metadata": {},
   "outputs": [],
   "source": [
    "#파일명 : exercise_solution.py\n",
    "import urllib.request\n",
    "from bs4 import BeautifulSoup\n",
    "import re\n",
    "url = \"http://unico2013.dothome.co.kr/crawling/exercise_bs.html\" \n",
    "html = urllib.request.urlopen(url)\n",
    "bs = BeautifulSoup(html.read().decode('utf-8'), \"html.parser\")\n",
    "#bs = BeautifulSoup(html, \"html.parser\")\n",
    "print('[<h1> 태그의 컨텐트] ', bs.h1.text)\n",
    "print('[텍스트 형식으로 내용을 가지고 있는 <a> 태그의 컨텐트와 href 속성값] ',)\n",
    "aTag = bs.find_all('a')\n",
    "for tag in aTag:\n",
    "    if(tag.text.strip()):\n",
    "        print(tag.text, ' : ', tag['href'])\n",
    "print('[<img> 태그의 src 속성값] ',bs.img['src'])\n",
    "print('[첫 번째 <h2> 태그의 컨텐트] ',bs.h2.text)\n",
    "print('[<ul> 태그의 자식 태그들중 style 속성의 값이 green으로 끝나는 태그의 컨텐트] ',bs.ul.find(style=re.compile(\"green$\")).text)\n",
    "print('[두 번째 <h2> 태그의 컨텐트] ',bs.find_all('h2')[1].text)\n",
    "print('[<ol> 태그의 모든 자식 태그들의 컨텐트 ]')\n",
    "olTag = bs.find(\"ol\")\n",
    "olliTag = olTag.find_all(\"li\")\n",
    "for tag in olliTag:\n",
    "    print(tag.text)\n",
    "print('[<table> 태그의 모든 자손 태그들의 컨텐트 ]')\n",
    "print(bs.table.text.strip())\n",
    "tableTag = bs.table\n",
    "print('[name이라는 클래스 속성을 갖는 <tr> 태그의 컨텐트] ',tableTag.find(\"tr\", class_=\"name\").text)\n",
    "print('[target이라는 아이디 속성을 갖는 <td> 태그의 컨텐트] ',bs.find(\"td\", id='target').text)"
   ]
  },
  {
   "cell_type": "code",
   "execution_count": null,
   "metadata": {},
   "outputs": [],
   "source": [
    "import urllib.request\n",
    "from bs4 import BeautifulSoup\n",
    "url = \"http://unico2013.dothome.co.kr/crawling/exercise_bs.html\" \n",
    "html = urllib.request.urlopen(url)\n",
    "bs = BeautifulSoup(html, \"html.parser\")\n",
    "print('[<h1> 태그의 컨텐트] ', bs.select('h1')[0].text)\n",
    "print('[텍스트 형식으로 내용을 가지고 있는 <a> 태그의 컨텐트와 href 속성값] ',)\n",
    "aTag = bs.select('a')\n",
    "for tag in aTag:\n",
    "    if(tag.text.strip()):\n",
    "        print(tag.text, ' : ', tag['href'])\n",
    "print('[<img> 태그의 src 속성값] ',bs.select('img')[0]['src'])\n",
    "print('[첫 번째 <h2> 태그의 컨텐트] ',bs.select('h2:nth-of-type(1)')[0].text)\n",
    "print('[<ul> 태그의 자식 태그들중 style 속성의 값이 green으로 끝나는 태그의 컨텐트] ',bs.select('ul>li[style$=green]')[0].text)\n",
    "print('[두] 번째 <h2> 태그의 컨텐트] ',bs.select('h2:nth-of-type(2)')[0].text)\n",
    "print('[<ol> 태그의 모든 자식 태그들의 컨텐트 ]')\n",
    "olliTag = bs.select('ol>li')\n",
    "for tag in olliTag:\n",
    "    print(tag.text)\n",
    "print('[<table> 태그의 모든 자손 태그들의 컨텐트 ]')\n",
    "print(bs.select('table')[0].text.strip())\n",
    "print('[name이라는 클래스 속성을 갖는 <tr> 태그의 컨텐트] ',bs.select('tr.name')[0].text)\n",
    "print('[target이라는 아이디 속성을 갖는 <td> 태그의 컨텐트] ',bs.select('td#target')[0].text)"
   ]
  },
  {
   "cell_type": "code",
   "execution_count": null,
   "metadata": {},
   "outputs": [],
   "source": [
    "import requests\n",
    "from bs4 import BeautifulSoup\n",
    "import re\n",
    "urlstr = 'http://unico2013.dothome.co.kr/crawling/exercise_bs.html'\n",
    "r = requests.get(urlstr)\n",
    "r.encoding = 'utf-8'\n",
    "html_doc = r.text\n",
    "# print(html_doc)\n",
    "bs = BeautifulSoup(html_doc, 'html.parser')\n",
    "print(\"[<h1> 태그의 콘텐츠]\", bs.find('h1').text)\n",
    "print(\"[텍스트 형식으로 내용을 가지고 있는 <a> 태그의 콘텐츠와 href 속성값]\")\n",
    "# atags = bs.find_all('a', len(text)>0)\n",
    "atags = bs.find_all('a')\n",
    "for atag in atags :\n",
    "    if atag.string != None :\n",
    "        print(atag.string, \":\", atag['href'])\n",
    "\n",
    "print(\"[<img> 태그의 src 속성값]\", bs.img['src'])\n",
    "print(\"[첫 번째 <h2> 태그의 콘텐츠]\", bs.h2.text)\n",
    "print(\"[<ul> 태그의 자식 태그들 중 style 속성의 값이 green으로 끝나는 태그의 콘텐츠]\")\n",
    "print(bs.find('ul').find_all('li', attrs={'style':re.compile(\"green$\")})[0].text )\n",
    "print(\"[두 번째 <h2> 태그의 콘텐츠]\", bs.find_all('h2')[1].text)\n",
    "print(\"[<ol> 태그의 모든 자식 태그들의 콘텐츠]\")\n",
    "for tg in bs.find('ol').find_all('li') :\n",
    "    print (tg.text)\n",
    "print(\"[<table> 태그의 모든 자손 태그들의 콘텐츠]\")\n",
    "for tg in bs.find('table').find_all('tr') :\n",
    "    print (tg.text)\n",
    "print(\"[name이라는 클래스 속성을 갖는 <tr> 태그의 콘텐츠]\", bs.find('tr', class_=\"name\").text)\n",
    "print(\"[target이라는 아이디 속성을 갖는 <td> 태그의 콘텐츠]\", bs.find('td', id='target').text)"
   ]
  },
  {
   "cell_type": "code",
   "execution_count": null,
   "metadata": {},
   "outputs": [],
   "source": [
    "import requests\n",
    "from bs4 import BeautifulSoup\n",
    "title = []\n",
    "name = []\n",
    "urlstr = 'http://media.daum.net/ranking/popular/'\n",
    "r = requests.get(urlstr)\n",
    "r.encoding = \"utf-8\"\n",
    "bs = BeautifulSoup(r.text, 'html.parser')\n",
    "titleList = bs.select('.rank_news>ul>li>.cont_thumb>strong>a')\n",
    "nameList = bs.select('div.cont_thumb > strong > span')\n",
    "\n",
    "for titleDom in titleList:\n",
    "\ttitle.append(titleDom.string)\n",
    "for nameDom in nameList:\n",
    "\tname.append(nameDom.string)\n",
    "\n",
    "print('뉴스제목--------------')\n",
    "print(title)\n",
    "print(len(title))\n",
    "\n",
    "print('뉴스이름--------------')\n",
    "print(name)\n",
    "print(len(name))\n",
    "\n",
    "with open('C:/Temp/news.csv', \"wt\", encoding=\"utf-8\") as f:\n",
    "    f.write('newstitle,newscomname\\n')  \n",
    "    for i in range(len(title)):\n",
    "        f.write('\"'+title[i]+'\",'+name[i]+'\\n') "
   ]
  },
  {
   "cell_type": "code",
   "execution_count": null,
   "metadata": {},
   "outputs": [],
   "source": [
    "import requests\n",
    "from bs4 import BeautifulSoup\n",
    "import re\n",
    "n = 1\n",
    "while True:\n",
    "    req = requests.get('https://movie.daum.net/moviedb/grade?movieId=131704&type=netizen&page='+str(n))\n",
    "    html = req.text\n",
    "    soup = BeautifulSoup(html, 'html5lib')\n",
    "    points = soup.select('div.raking_grade > em')\n",
    "    reviews = soup.select('div.main_detail > ul > li > div > p')\n",
    "    if len(points) == 0 :\n",
    "        break\n",
    "\n",
    "    movie_point = []\n",
    "    movie_review = [] \n",
    "\n",
    "    for dom in points:\n",
    "        movie_point.append(dom.text)\n",
    "\n",
    "    for dom in reviews:\n",
    "        content=dom.text.strip()\n",
    "        content=re.sub(\"[\\n\\t]\", ' ', content)\n",
    "        movie_review.append(content)\n",
    "\n",
    "        \n",
    "    commentLength = len(movie_point)   \n",
    "    for i in range(commentLength):\n",
    "        print(movie_point[i] + \",\"+movie_review[i]) \n",
    "    n += 1"
   ]
  },
  {
   "cell_type": "code",
   "execution_count": null,
   "metadata": {},
   "outputs": [],
   "source": [
    "# 함수버전\n",
    "\n",
    "import urllib.request\n",
    "import json\n",
    "from bs4 import BeautifulSoup \n",
    "\n",
    "def naver_search (keyword, callType = 'JSON') :\n",
    "    client_key = 'izGsqP2exeThwwEUVU3x'\n",
    "    client_secret = 'WrwbQ1l6ZI'\n",
    "    query = keyword\n",
    "\n",
    "    encText = urllib.parse.quote_plus(query)\n",
    "    num = 5\n",
    "    if callType == 'JSON' :\n",
    "        urlhead = 'https://openapi.naver.com/v1/search/local.json?query='\n",
    "    elif callType == 'XML' :\n",
    "        urlhead = 'https://openapi.naver.com/v1/search/local.xml?query='\n",
    "    else :\n",
    "        print('JSON or XML only')\n",
    "        return   \n",
    "\n",
    "    naver_url = urlhead + encText + '&display=' + str(num)\n",
    "    request = urllib.request.Request(naver_url)\n",
    "    request.add_header(\"X-Naver-Client-Id\",client_key)\n",
    "    request.add_header(\"X-Naver-Client-Secret\",client_secret)\n",
    "    response = urllib.request.urlopen(request)\n",
    "    rescode = response.getcode() \n",
    "\n",
    "    if(rescode == 200):\n",
    "        response_body = response.read()\n",
    "        count = 1     \n",
    "        if callType == 'JSON' :\n",
    "            dataList = json.loads(response_body)\n",
    "            print('[' + query + '집에 대한 네이버 지역 정보(JSON)]')\n",
    "            for data in dataList['items'] :\n",
    "                print (str(count) + ' : ' + data['title'] + ',' + data['telephone'] + ',' + data['address'])\n",
    "                count += 1\n",
    "\n",
    "        elif callType == 'XML' :\n",
    "            xmlsoup = BeautifulSoup(response_body, 'xml')\n",
    "            items = xmlsoup.find_all('item')\n",
    "            print('[' + query + '집에 대한 네이버 지역 정보(XML)]')\n",
    "            for data in items:\n",
    "                print (str(count) + ' : ' + data.title.string + ',' +\n",
    "                       ('없음' if data.telephone.string == None else data.telephone.string) + \n",
    "                       ',' + data.address.string)\n",
    "                count += 1\n",
    "    else:\n",
    "        print('오류 코드 : ' + rescode)"
   ]
  },
  {
   "cell_type": "code",
   "execution_count": null,
   "metadata": {},
   "outputs": [],
   "source": [
    "naver_search('짜장면', 'XML')"
   ]
  },
  {
   "cell_type": "code",
   "execution_count": null,
   "metadata": {},
   "outputs": [],
   "source": [
    "naver_search('쌀국수', 'JSON')"
   ]
  },
  {
   "cell_type": "code",
   "execution_count": null,
   "metadata": {},
   "outputs": [],
   "source": [
    "# XML버전\n",
    "import urllib.request\n",
    "from bs4 import BeautifulSoup \n",
    "\n",
    "client_key = 'izGsqP2exeThwwEUVU3x'\n",
    "client_secret = 'WrwbQ1l6ZI'\n",
    "query = '쌀국수'\n",
    "encText = urllib.parse.quote_plus(query)\n",
    "num = 5\n",
    "naver_url = 'https://openapi.naver.com/v1/search/local.xml?query=' + encText + '&display=' + str(num)\n",
    "request = urllib.request.Request(naver_url)\n",
    "request.add_header(\"X-Naver-Client-Id\",client_key)\n",
    "request.add_header(\"X-Naver-Client-Secret\",client_secret)\n",
    "response = urllib.request.urlopen(request)\n",
    "rescode = response.getcode()\n",
    "\n",
    "if(rescode == 200):\n",
    "    response_body = response.read()\n",
    "    xmlsoup = BeautifulSoup(response_body, 'xml')\n",
    "    items = xmlsoup.find_all('item')\n",
    "    count = 1\n",
    "    print('[' + query + '집에 대한 네이버 지역 정보(XML)]')\n",
    "    for data in items:\n",
    "        print (str(count) + ' : ' + data.title.string + ',' + ('없음' if data.telephone.string == None else data.telephone.string) + ',' + data.address.string)\n",
    "        count += 1\n",
    "else:\n",
    "    print('오류 코드 : ' + rescode)"
   ]
  },
  {
   "cell_type": "code",
   "execution_count": null,
   "metadata": {},
   "outputs": [],
   "source": [
    "# JSON 버전\n",
    "import urllib.request\n",
    "import json\n",
    "client_key = 'izGsqP2exeThwwEUVU3x'\n",
    "client_secret = 'WrwbQ1l6ZI'\n",
    "query = '쌀국수'\n",
    "encText = urllib.parse.quote_plus(query)\n",
    "num = 5\n",
    "naver_url = 'https://openapi.naver.com/v1/search/local.json?query=' + encText + '&display=' + str(num)\n",
    "request = urllib.request.Request(naver_url)\n",
    "request.add_header(\"X-Naver-Client-Id\",client_key)\n",
    "request.add_header(\"X-Naver-Client-Secret\",client_secret)\n",
    "response = urllib.request.urlopen(request)\n",
    "rescode = response.getcode()\n",
    "\n",
    "if(rescode == 200):\n",
    "    response_body = response.read()\n",
    "    dataList = json.loads(response_body)\n",
    "    count = 1\n",
    "    print('[' + query + '집에 대한 네이버 지역 정보(JSON)]')\n",
    "    for data in dataList['items'] :\n",
    "        print (str(count) + ' : ' + data['title'] + ',' + data['telephone'] + ',' + data['address'])\n",
    "        count += 1\n",
    "else:\n",
    "    print('오류 코드 : ' + rescode)"
   ]
  },
  {
   "cell_type": "code",
   "execution_count": null,
   "metadata": {},
   "outputs": [],
   "source": [
    "import pandas as pd"
   ]
  },
  {
   "cell_type": "code",
   "execution_count": null,
   "metadata": {},
   "outputs": [],
   "source": [
    "#list를 사용하여 Series 만들기\n",
    "data = [10, 20, 30, 40, 50]\n",
    "series = pd.Series(data)\n",
    "print(type(series)) \n",
    "print(series)"
   ]
  },
  {
   "cell_type": "code",
   "execution_count": null,
   "metadata": {},
   "outputs": [],
   "source": [
    "#직접 index 를 부여해보기 \n",
    "data2 = {'a':1, 'b':2, 'c':3, 'd':4, 'e':5}\n",
    "series2 = pd.Series(data2)\n",
    "print(type(series)) \n",
    "print(series2)"
   ]
  },
  {
   "cell_type": "code",
   "execution_count": null,
   "metadata": {},
   "outputs": [],
   "source": [
    "#직접 index 를 부여해보기 \n",
    "data2 = {'학생1':'둘리', '학생2':'또치', '학생3':'도우너', '학생4':'희동이', '학생5':'마이콜'}\n",
    "series2 = pd.Series(data2)\n",
    "print(type(series)) \n",
    "print(series2)"
   ]
  },
  {
   "cell_type": "code",
   "execution_count": null,
   "metadata": {},
   "outputs": [],
   "source": [
    "#직접 index 를 부여해보기 \n",
    "data2 = ['둘리', '또치', '도우너', '희동이', '마이콜']\n",
    "series2 = pd.Series(data2, index=['학생1','학생2','학생3','학생4','학생5'])\n",
    "print(type(series)) \n",
    "print(series2)"
   ]
  },
  {
   "cell_type": "code",
   "execution_count": null,
   "metadata": {},
   "outputs": [],
   "source": [
    "blood = ['A형', 'B형', 'O형', 'AB형']\n",
    "st = [34.2, 27.1, 26.7, 11.5]\n",
    "sr = pd.Series(st, index=blood)\n",
    "print(\"[시리즈 sr 출력]\")\n",
    "print(sr)\n",
    "print(\"[시리즈 sr에서 인덱싱과 슬라이싱하여 출력(숫자인덱스 사용)]\")\n",
    "print(sr[0])\n",
    "print(sr[-1])\n",
    "print(sr[1])\n",
    "print(sr[1:4])\n",
    "print(\"[시리즈 sr에서 인덱싱과 슬라이싱하여 출력(이름인덱스 사용)]\")\n",
    "print(sr['A형'])\n",
    "print(sr['AB형'])\n",
    "print(sr['B형'])\n",
    "print(sr['B형':'AB형'])\n",
    "print(\"[시리즈 sr의 크기 출력 ]\")\n",
    "print(len(sr))\n",
    "print(\"[시리즈 sr의 인덱스 출력 ]\")\n",
    "print(sr.index)\n",
    "print(\"[시리즈 sr의 데이터 값 출력 ]\")\n",
    "print(sr.values)"
   ]
  },
  {
   "cell_type": "code",
   "execution_count": null,
   "metadata": {},
   "outputs": [],
   "source": [
    "data = {\n",
    "    'name':['둘리', '또치', '도우너', '희동이'],\n",
    "    'kor':[90, 80, 70, 70],\n",
    "    'eng':[99, 98, 97, 46],\n",
    "    'mat':[90, 70, 70, 60],\n",
    "}\n",
    "df = pd.DataFrame(data)\n",
    "print(\"타입 : \", type(df))\n",
    "print(df)"
   ]
  },
  {
   "cell_type": "code",
   "execution_count": null,
   "metadata": {},
   "outputs": [],
   "source": [
    "data = {\n",
    "    'name':['둘리', '또치', '도우너', '희동이'],\n",
    "    'kor':[90, 80, 70, 70],\n",
    "    'eng':[99, 98, 97, 46],\n",
    "    'mat':[90, 70, 70, 60],\n",
    "}\n",
    "df = pd.DataFrame(data, index=['학생1','학생2','학생3','학생4'])\n",
    "print(\"타입 : \", type(df))\n",
    "print(df)"
   ]
  },
  {
   "cell_type": "code",
   "execution_count": null,
   "metadata": {},
   "outputs": [],
   "source": [
    "data = {\n",
    "    'name':['둘리', '또치', '도우너', '희동이'],\n",
    "    'kor':[90, 80, 70, 70],\n",
    "    'eng':[99, 98, 97, 46],\n",
    "    'mat':[90, 70, 70, 60],\n",
    "}\n",
    "df = pd.DataFrame(data, index=['학생1','학생2','학생3','학생4'])\n",
    "df.index = ['st1', 'st2', 'st3', 'st4']\n",
    "df.columns = ['dooly', 'doochi', 'dounar', 'heedong']\n",
    "\n",
    "print(df)"
   ]
  },
  {
   "cell_type": "code",
   "execution_count": null,
   "metadata": {},
   "outputs": [],
   "source": [
    "data = {\n",
    "    'name':['듀크1', '듀크2', '듀크3', '듀크4', '듀크5', '듀크6', '듀크7'],\n",
    "    'kor':[90, 80, 70, 70, 60, 70, 90],\n",
    "    'eng':[99, 98, 97, 46, 77, 56, 90],\n",
    "    'mat':[90, 70, 70, 60, 88, 99, 90],\n",
    "}\n",
    " \n",
    "df = pd.DataFrame(data)\n",
    "\n",
    "print( df.head() ) #앞의 다섯명에 대한 데이터만 나온다. \n",
    "print( df.tail() )\n",
    "print( df.columns)\n",
    "print( df['name'])\n",
    "print( df.eng) \n",
    "print( df[['kor', 'mat']]) \n",
    "#iloc 함수 : 배열에서의 위치값으로 데이터를 접근 할 수 있다. \n",
    "print(\"iloc 함수 사용 -----------\")\n",
    "print( df.iloc[3])\n",
    "print( df.iloc[0,0]) #0,0번에 해당하는 데이터 출력하기 \n",
    "print( df.iloc[3,2]) #3번째 행의 2번째 열 \n",
    "print( df.iloc[2:4,2])\n",
    "print( df.iloc[2:4,2:4])\n",
    "\n",
    "print(\"loc함수 사용 -------------\")\n",
    "#loc 함수는 필드명으로 데이터를 출력할 수 있다 .\n",
    "print( df.loc[3])\n",
    "print( df.loc[0, 'name']) #0번째 행의 name필드 값 출력 \n",
    "print( df.loc[3, 'eng']) #0번째 행의 name필드 값 출력 \n",
    "print( df.loc[2:3, 'eng'])\n",
    "print( df.loc[2:3, 'eng':'mat'])"
   ]
  },
  {
   "cell_type": "code",
   "execution_count": null,
   "metadata": {},
   "outputs": [],
   "source": [
    "print(df)"
   ]
  },
  {
   "cell_type": "code",
   "execution_count": null,
   "metadata": {},
   "outputs": [],
   "source": [
    "df.set_index('name', inplace=True)\n",
    "print(df)"
   ]
  },
  {
   "cell_type": "code",
   "execution_count": null,
   "metadata": {},
   "outputs": [],
   "source": [
    "#1번\n",
    "data = {\n",
    "    'name':['둘리', '또치', '도우너', '희동이'],\n",
    "    'kor':[90, 80, 70, 70],\n",
    "    'eng':[99, 98, 97, 46],\n",
    "    'mat':[90, 70, 70, 60],\n",
    "}\n",
    "df = pd.DataFrame(data)\n",
    "df['class'] = ['1반', '2반', '1반', '2반']\n",
    "print(df)"
   ]
  },
  {
   "cell_type": "code",
   "execution_count": null,
   "metadata": {},
   "outputs": [],
   "source": [
    "df.loc[4] = ['마이콜', 80,80,80,'1반']\n",
    "print(df)"
   ]
  },
  {
   "cell_type": "code",
   "execution_count": null,
   "metadata": {},
   "outputs": [],
   "source": [
    "data = {\n",
    "    'name':['둘리', '또치', '도우너', '희동이'],\n",
    "    'kor':[90, 80, 70, 70],\n",
    "    'eng':[99, 98, 97, 46],\n",
    "    'mat':[90, 70, 70, 60],\n",
    "}\n",
    "df = pd.DataFrame(data)\n",
    "df['class'] = ['1반', '2반', '1반', '2반']\n",
    "df.loc[4] = ['마이콜', 80,80,80,'1반']\n",
    "df.set_index('name', inplace=True)\n",
    "df.columns = ['국어', '영어', '수학', '반번호']\n",
    "print(df)"
   ]
  },
  {
   "cell_type": "code",
   "execution_count": null,
   "metadata": {},
   "outputs": [],
   "source": [
    "df.loc['마이콜', ['국어', '영어', '수학']] = 100\n",
    "#df.loc['마이콜'] = 100\n",
    "df.loc['희동이', '영어'] = 90\n",
    "print(df)"
   ]
  },
  {
   "cell_type": "code",
   "execution_count": null,
   "metadata": {},
   "outputs": [],
   "source": [
    "df.reset_index(inplace=True)\n",
    "print(df)\n",
    "df.rename(columns={'name':'성명'}, inplace=True )\n",
    "print(df)"
   ]
  },
  {
   "cell_type": "code",
   "execution_count": null,
   "metadata": {},
   "outputs": [],
   "source": [
    "df1 = df.sort_values(by='국어', ascending=False)\n",
    "print(df1)\n",
    "df2 = df.sort_values(by='영어')\n",
    "print(df2)"
   ]
  },
  {
   "cell_type": "code",
   "execution_count": null,
   "metadata": {},
   "outputs": [],
   "source": [
    "df['총점'] = df['국어']+df['수학']+df['영어']\n",
    "df.sort_values(by='총점', ascending=False, inplace=True)\n",
    "print(df)"
   ]
  },
  {
   "cell_type": "code",
   "execution_count": null,
   "metadata": {},
   "outputs": [],
   "source": [
    "df3 = df.drop('반번호', axis=1)\n",
    "print(df3)\n",
    "print(df)"
   ]
  },
  {
   "cell_type": "code",
   "execution_count": null,
   "metadata": {},
   "outputs": [],
   "source": [
    "df4 = df.drop(4)\n",
    "print(df4)\n",
    "print(df)"
   ]
  },
  {
   "cell_type": "code",
   "execution_count": null,
   "metadata": {},
   "outputs": [],
   "source": [
    "data1 = {'kor':90, 'mat':80}\n",
    "data2 = {'kor':90, 'eng':70}\n",
    "data3 = {'kor':90, 'eng':70, 'mat':80}\n",
    "\n",
    "series1 = pd.Series( data1 )\n",
    "series2 = pd.Series( data2 )\n",
    "series3 = pd.Series( data3 )\n",
    "result = series1 + series2 + series3\n",
    "\n",
    "print(result)"
   ]
  },
  {
   "cell_type": "code",
   "execution_count": null,
   "metadata": {},
   "outputs": [],
   "source": [
    "data1 = {'kor':90, 'mat':80}\n",
    "data2 = {'kor':90, 'eng':70}\n",
    "data3 = {'kor':90, 'eng':70, 'mat':80}\n",
    "\n",
    "series1 = pd.Series( data1 )\n",
    "series2 = pd.Series( data2 )\n",
    "series3 = pd.Series( data3 )\n",
    "result = series1.add(series2, fill_value=0) \n",
    "result = result.add(series3, fill_value=0) \n",
    "#result =        + series3\n",
    "\n",
    "print(result)"
   ]
  },
  {
   "cell_type": "code",
   "execution_count": null,
   "metadata": {},
   "outputs": [],
   "source": [
    "# 11번\n",
    "import pandas as pd\n",
    " \n",
    "data = {\n",
    "    'X1':[2.9, 2.4, 2, 2.3, 3.2],\n",
    "    'X2':[9.2, 8.7, 7.2, 8.5, 9.6],\n",
    "    'X3':[13.2, 11.5, 10.8, 12.3, 12.6],\n",
    "    'X4':[2, 3, 4, 3, 2]\n",
    "}\n",
    " \n",
    "df = pd.DataFrame(data, index=['Y1','Y2','Y3', 'Y4', 'Y5'])\n",
    "print(df)\n",
    "df.loc['Y6']=[10, 20, 30, 40]\n",
    "print(df)\n",
    "df = df + 10\n",
    "print(df)\n",
    "df['total'] = df.X1 +  df.X2 + df.X3 + df.X4\n",
    "print(df)\n",
    "print(df.T)\n"
   ]
  },
  {
   "cell_type": "code",
   "execution_count": null,
   "metadata": {},
   "outputs": [],
   "source": [
    "data = pd.read_csv(\"./data/score.csv\")\n",
    "\n",
    "print(\"컬럼명 : \", data.columns)\n",
    "print(\"인덱스 : \", data.index)\n",
    "\n",
    "#총점, 평균 구하기 \n",
    "data['total'] = data['kor'] + data['eng']+data['mat']\n",
    "data['avg'] = round(data['total']/3,2)\n",
    "\n",
    "display( data )"
   ]
  },
  {
   "cell_type": "code",
   "execution_count": null,
   "metadata": {},
   "outputs": [],
   "source": [
    "data = pd.read_csv(\"./data/score_noheader.csv\", header=None)\n",
    "display(data)\n",
    "\n",
    "print(\"컬럼명 : \", data.columns)\n",
    "print(\"인덱스 : \", data.index)\n",
    "\n",
    "print(\"컬럼명 추가 ----------\")\n",
    "data.columns = ['name', 'kor', 'eng', 'mat']\n",
    "print(\"컬럼명 : \", data.columns)\n",
    "display(data)\n",
    "\n",
    "print(\"total과 avg열 추가 -------\")\n",
    "#총점, 평균 구하기 \n",
    "data['total'] = data['kor'] + data['eng']+data['mat']\n",
    "data['avg'] = round(data['total']/3,2)\n",
    "\n",
    "display(data)"
   ]
  },
  {
   "cell_type": "code",
   "execution_count": null,
   "metadata": {},
   "outputs": [],
   "source": [
    "data = pd.read_csv(\"./data/score_header.csv\", header=3)\n",
    "display(data)\n",
    "\n",
    "print(\"컬럼명 : \", data.columns)\n",
    "print(\"인덱스 : \", data.index)\n",
    "\n",
    "#총점, 평균 구하기 \n",
    "data['total'] = data['kor'] + data['eng']+data['mat']\n",
    "data['avg'] = round(data['total']/3,2)\n",
    "\n",
    "data.to_csv(\"c:/Temp/score_result.csv\",  header=False, mode='a', index=False)\n",
    "display( data )"
   ]
  },
  {
   "cell_type": "code",
   "execution_count": null,
   "metadata": {},
   "outputs": [],
   "source": [
    "data = pd.read_excel(\"./data/score.xlsx\")\n",
    "display(data)\n",
    "data['total'] = data['kor'] + data['eng']+data['mat']\n",
    "data['avg'] = round(data['total']/3,2)\n",
    "data.sort_values(by='avg', ascending=False, inplace=True)\n",
    "display(data)\n",
    "data.to_excel(\"c:/Temp/score_result1.xlsx\")\n",
    "data.to_excel(\"c:/Temp/score_result2.xlsx\", index=False)"
   ]
  },
  {
   "cell_type": "code",
   "execution_count": null,
   "metadata": {},
   "outputs": [],
   "source": [
    "data = pd.read_json(\"data/mydata.json\")\n",
    "print(\"기본정보 보기\") \n",
    "print(data.info())\n",
    "print(\"앞에서 부터 5개만 미리 보기\") \n",
    "display( data.head() )\n",
    "\n",
    "print(\"뒤에서 부터 5개만 미리 보기\") \n",
    "display( data.tail() )\n",
    "\n",
    "print(\"앞에서 부터 10개만 미리 보기\") \n",
    "display( data.head(10))\n",
    "#데이터프레임의 차원 행, 열의 개수 확인 가능 \n",
    "print( data.shape )\n",
    "\n",
    "row, col = data.shape  \n",
    "#tuple타입임, 행과 열에 대한 정보를 모두 가지고 있음\n",
    "print(\"행의 개수 : \", row, \", 열의 개수 : \", col, sep = \"\")\n",
    "data.to_csv(\"c:/Temp/mydata.csv\", index=False)"
   ]
  },
  {
   "cell_type": "code",
   "execution_count": null,
   "metadata": {},
   "outputs": [],
   "source": [
    "pd.set_option('display.max_columns', 100)\n",
    "data = pd.read_csv(\"./data/mpgdata.csv\")\n",
    "\n",
    "print(\"앞에서 부터 3개만 미리 보기\") \n",
    "display( data.head(3))\n",
    "#데이터프레임의 차원 행, 열의 개수 확인 가능 \n",
    "print( data.shape )\n",
    "\n",
    "row, col = data.shape  \n",
    "#tuple타입임, 행과 열에 대한 정보를 모두 가지고 있음\n",
    "print(\"행의 개수 \", row)\n",
    "print(\"열의 개수 \", col)\n",
    "print(\"기술통계 정보 요약\") \n",
    "display(data.describe())"
   ]
  },
  {
   "cell_type": "code",
   "execution_count": null,
   "metadata": {},
   "outputs": [],
   "source": [
    "import requests\n",
    "from bs4 import BeautifulSoup\n",
    "import pandas as pd\n",
    "\n",
    "title = []\n",
    "media = []\n",
    "urlstr = 'http://media.daum.net/ranking/popular/'\n",
    "r = requests.get(urlstr)\n",
    "r.encoding = \"utf-8\"\n",
    "bs = BeautifulSoup(r.text, 'html.parser')\n",
    "titleList = bs.select('ul.list_news2 > li > div.cont_thumb > strong > a')\n",
    "mediaList = bs.select('ul.list_news2 > li > div.cont_thumb > strong > span')\n",
    "\n",
    "for titleDom in titleList:\n",
    "\ttitle.append(titleDom.string)\n",
    "for mediaDom in mediaList:\n",
    "\tmedia.append(mediaDom.string)\n",
    "\n",
    "# with open('C:/Temp/news.csv', \"wt\", encoding=\"utf-8\") as f:\n",
    "#    f.write('newstitle,newscomname \\n')  \n",
    "#    for i in range(len(title)):\n",
    "#        f.write(\"\\\"\" + title[i] + \"\\\", \\\"\" + media[i] + \"\\\"\" + \"\\n\")  \n",
    "#        print(\"\\\"\" + title[i] + \"\\\", \\\"\" + media[i] + \"\\\"\" + \"\\n\")\n",
    "\n",
    "df = pd.DataFrame({'newstitle':title, 'newscomname':media})\n",
    "print(df)\n",
    "display(df)\n",
    "df.to_csv(\"C:/Temp/news2.csv\", index=False)"
   ]
  },
  {
   "cell_type": "code",
   "execution_count": null,
   "metadata": {},
   "outputs": [],
   "source": [
    "from selenium import webdriver\n",
    "import time\n",
    "import re\n",
    "import pandas as pd\n",
    "\n",
    "driver = webdriver.Chrome('C:/Temp/chromedriver')\n",
    "driver.get(\"http://gs25.gsretail.com/gscvs/ko/products/event-goods\")\n",
    "time.sleep(2)\n",
    "\n",
    "# 2+1행사 탭으로 이동\n",
    "twoPlusOnetab = driver.find_element_by_css_selector('#TWO_TO_ONE')\n",
    "twoPlusOnetab.click()\n",
    "time.sleep(1)\n",
    "\n",
    "titleList_all = []\n",
    "priceList_all = []\n",
    "page = 0\n",
    "\n",
    "while True :\n",
    "    page += 1\n",
    "    \n",
    "    titleList = driver.find_elements_by_css_selector('div.cnt_section.mt50 div > p.tit')\n",
    "    priceList = driver.find_elements_by_css_selector('div.cnt_section.mt50 div > p.price > span')\n",
    "\n",
    "    productCount = 0\n",
    "    for oneTitle in titleList :\n",
    "        if len(oneTitle.text.strip()) > 0 :\n",
    "            titleList_all.append(oneTitle.text.strip())\n",
    "            productCount += 1\n",
    "            # print(oneTitle.text.strip())\n",
    "    print(str(page) + \" page 상품명 누적 \" + str(len(titleList_all)) + \"개 적재\")\n",
    "\n",
    "    for onePrice in priceList :\n",
    "        if len(onePrice.text.strip()) > 0 :\n",
    "            content = re.sub('[^0-9]', '', onePrice.text.strip())\n",
    "            priceList_all.append(content)\n",
    "            # print(content)\n",
    "    print(str(page) + \" page 가격 누적 \" + str(len(priceList_all)) + \"개 적재\")\n",
    "\n",
    "    # 마지막 페이지이면 정지\n",
    "    if productCount < 8 : break  \n",
    "    \n",
    "    # 다음페이지로 이동 - 잘 안되서 스크립트로\n",
    "    driver.execute_script(\"goodsPageController.moveControl(1)\")\n",
    "    time.sleep(1)\n",
    "\n",
    "#with open('C:/Temp/gs25_twotoone.csv', \"wt\", encoding=\"utf-8\") as f:\n",
    "#    f.write('goodsname,goodsprice \\n')  \n",
    "#    for i in range(len(titleList_all)):\n",
    "#        f.write(titleList_all[i] + \",\"+ priceList_all[i] + '\\n') \n",
    "        \n",
    "df = pd.DataFrame({'goodsname':titleList_all, 'goodsprice':priceList_all})\n",
    "print(df)\n",
    "display(df)\n",
    "df.to_csv(\"C:/Temp/gs25_twotoone2.csv\", index=False)"
   ]
  },
  {
   "cell_type": "code",
   "execution_count": null,
   "metadata": {},
   "outputs": [],
   "source": [
    "from matplotlib import font_manager, rc\n",
    "font_path = \"data/THEdog.ttf\"   #폰트파일의 위치\n",
    "font_name = font_manager.FontProperties(fname=font_path).get_name()\n",
    "rc('font', family=font_name)"
   ]
  },
  {
   "cell_type": "code",
   "execution_count": null,
   "metadata": {},
   "outputs": [],
   "source": [
    "import pandas as pd\n",
    "import seaborn as sns\n",
    "from matplotlib import pyplot as plt\n",
    "data_result = pd.read_csv(\"./data/cctv_seoul.csv\")\n",
    "\n",
    "print(\"앞에서 부터 3개만 미리 보기\") \n",
    "display( data_result.head(3))\n",
    "data_result.set_index('구별', inplace=True)\n",
    "data_result.head()\n",
    "mycolors = sns.color_palette('hls',len(data_result['CCTV수']))\n",
    "plt.figure(figsize=(10,10))\n",
    "data_result['CCTV수'].plot(kind='barh', grid=True, color=mycolors)\n",
    "plt.xlabel('각 구에 설치된 CCTV 댓수', size=15)\n",
    "plt.ylabel('구이름', size=15)\n",
    "plt.title('시각화 과제(1) 각 구의 CCTV 설치 현황', size=20)\n",
    "plt.savefig(\"output/hw1.png\") \n",
    "plt.show()\n"
   ]
  },
  {
   "cell_type": "code",
   "execution_count": null,
   "metadata": {},
   "outputs": [],
   "source": [
    "mycolors = sns.color_palette('PRGn',len(data_result['CCTV수']))\n",
    "plt.figure(figsize=(14,8))\n",
    "data_result.sort_values(by='CCTV수', ascending=False, inplace=True)\n",
    "data_result['CCTV수'].plot(kind='bar', grid=True, color=mycolors, rot=20)\n",
    "plt.ylabel('각 구에 설치된 CCTV 댓수', size=15)\n",
    "plt.xlabel('구이름', size=15)\n",
    "plt.title('시각화 과제(2) 각 구의 CCTV 설치 현황', size=20)\n",
    "plt.show()"
   ]
  },
  {
   "cell_type": "code",
   "execution_count": null,
   "metadata": {},
   "outputs": [],
   "source": [
    "import numpy as np\n",
    "data_result['CCTV비율'] = data_result['CCTV수'] / data_result['인구수'] * 100\n",
    "colorbase = np.random.randint(0, 25, 25)\n",
    "print(colorbase)\n",
    "\n",
    "data_result['CCTV비율'].sort_values().plot(kind='barh', \n",
    "                                         grid=True, figsize=(10,10), cmap=plt.cm.autumn, color=colorbase)\n",
    "plt.show()"
   ]
  },
  {
   "cell_type": "code",
   "execution_count": null,
   "metadata": {},
   "outputs": [],
   "source": [
    "data_result.head()"
   ]
  },
  {
   "cell_type": "code",
   "execution_count": null,
   "metadata": {},
   "outputs": [],
   "source": [
    "import numpy as np\n",
    "data_result['CCTV비율'] = data_result['CCTV수'] / data_result['인구수'] * 100\n",
    "data_result['노인비율'] = data_result['고령자'] / data_result['인구수'] * 100\n",
    "display(data_result.head())\n",
    "fig=plt.figure(figsize=(15, 9))\n",
    "ax1 = fig.add_subplot(2, 1, 1)\n",
    "ax2 = fig.add_subplot(2, 1, 2)\n",
    "my_palette = sns.color_palette(\"muted\", 25)\n",
    "sns.barplot(x=data_result.index, y='CCTV비율', data=data_result, ax=ax1,  palette=my_palette)\n",
    "sns.lineplot(x=data_result.index, y='노인비율', data=data_result, ax=ax2, color='yellow', linestyle='dashed')\n",
    "sns.scatterplot(x=data_result.index, y='노인비율', data=data_result, ax=ax2, s=60, hue=data_result.index, legend=False,  palette=my_palette)\n",
    "ax1.set_title(\"각 구의 인구수 대비 CCTV 비율\", size=18)\n",
    "ax2.set_title(\"각 구의 인구수 대비 고령자 비율\", size=18)\n",
    "ax1.set_xlabel(\"\")\n",
    "ax2.set_xlabel(\"\")\n",
    "\n",
    "plt.tight_layout(h_pad=4)\n",
    "plt.show()"
   ]
  },
  {
   "cell_type": "code",
   "execution_count": null,
   "metadata": {},
   "outputs": [],
   "source": [
    "sns.barplot?"
   ]
  },
  {
   "cell_type": "code",
   "execution_count": null,
   "metadata": {},
   "outputs": [],
   "source": [
    "import pandas as pd\n",
    "import folium\n",
    "mymap = folium.Map(location=[37.5095,127.0556],zoom_start=15)\n",
    "tooltip = '우리 교육원이에요!'\n",
    "msg = '<div style=\"color:#cc0066\"><h4>여기는 캠퍼스세븐 1강의장입니다.</h4><hr><h5>여러분 만날때까지 건강하게 잘 지내요~~~<h5></div>'\n",
    "test = folium.Html(msg, script=True)\n",
    "popup = folium.Popup(test, max_width=300,min_width=300)\n",
    "myicon = folium.map.Icon(icon='cloud', color='pink')\n",
    "\n",
    "folium.Marker([37.5095,127.0556], popup = popup, icon=myicon, tooltip=tooltip).add_to(mymap)\n",
    "display(mymap)\n",
    "mymap.save('output/hw4.html')"
   ]
  },
  {
   "cell_type": "code",
   "execution_count": null,
   "metadata": {},
   "outputs": [],
   "source": [
    "import pandas as pd\n",
    "import seaborn as sns"
   ]
  },
  {
   "cell_type": "code",
   "execution_count": null,
   "metadata": {},
   "outputs": [],
   "source": []
  },
  {
   "cell_type": "code",
   "execution_count": null,
   "metadata": {},
   "outputs": [],
   "source": [
    "import pandas as pd\n",
    "import seaborn as sns\n",
    "iris = sns.load_dataset(\"iris\")\n",
    "iris_x = iris.loc[:,['sepal_length', 'sepal_width', 'petal_length', 'petal_width']]\n",
    "import random\n",
    "random.seed(1)\n",
    "for col in range(4):\n",
    "    iris_x.iloc[[random.sample(range(len(iris)), 20)], \n",
    "                col] = float('nan')\n",
    "iris_x.head(10)"
   ]
  },
  {
   "cell_type": "code",
   "execution_count": null,
   "metadata": {},
   "outputs": [],
   "source": [
    "iris_x.dropna().head(3)"
   ]
  },
  {
   "cell_type": "code",
   "execution_count": null,
   "metadata": {},
   "outputs": [],
   "source": [
    "iris_x.dropna(thresh=2).head(10)"
   ]
  },
  {
   "cell_type": "code",
   "execution_count": null,
   "metadata": {},
   "outputs": [],
   "source": [
    "iris_x.dropna(subset=[\"sepal_length\", \"sepal_width\"]).head(10)"
   ]
  },
  {
   "cell_type": "code",
   "execution_count": null,
   "metadata": {},
   "outputs": [],
   "source": [
    "iris_x.fillna(value=0).head(10)"
   ]
  },
  {
   "cell_type": "code",
   "execution_count": null,
   "metadata": {},
   "outputs": [],
   "source": [
    "import numpy as np\n",
    "iris_x.fillna(value=np.round(iris_x.mean(), 1)).head(10)"
   ]
  },
  {
   "cell_type": "code",
   "execution_count": null,
   "metadata": {},
   "outputs": [],
   "source": [
    "iris_x.fillna(value=10).head(10)"
   ]
  },
  {
   "cell_type": "code",
   "execution_count": null,
   "metadata": {},
   "outputs": [],
   "source": [
    "iris_x.fillna(method=\"ffill\").head(10)"
   ]
  },
  {
   "cell_type": "code",
   "execution_count": null,
   "metadata": {},
   "outputs": [],
   "source": []
  },
  {
   "cell_type": "code",
   "execution_count": null,
   "metadata": {},
   "outputs": [],
   "source": [
    "pd.date_range('2020-10-01','2020-10-31') "
   ]
  },
  {
   "cell_type": "code",
   "execution_count": null,
   "metadata": {},
   "outputs": [],
   "source": [
    "pd.date_range(start='2020-10-01', periods = 50)"
   ]
  },
  {
   "cell_type": "code",
   "execution_count": null,
   "metadata": {},
   "outputs": [],
   "source": [
    "pd.date_range('2020-10-01','2020-12-31',freq='M')"
   ]
  },
  {
   "cell_type": "code",
   "execution_count": null,
   "metadata": {},
   "outputs": [],
   "source": [
    "pd.date_range('2020-10-23 00:00','2020-10-23 23:59',freq='h')"
   ]
  },
  {
   "cell_type": "code",
   "execution_count": null,
   "metadata": {},
   "outputs": [],
   "source": [
    "pd.date_range('2020-10-23 00:00','2020-10-23 23:59',freq='3h')"
   ]
  },
  {
   "cell_type": "code",
   "execution_count": null,
   "metadata": {},
   "outputs": [],
   "source": [
    "pd.date_range('2020-01-01', periods=8, freq='2M')"
   ]
  },
  {
   "cell_type": "code",
   "execution_count": null,
   "metadata": {},
   "outputs": [],
   "source": []
  },
  {
   "cell_type": "code",
   "execution_count": null,
   "metadata": {},
   "outputs": [],
   "source": [
    "plog = pd.read_csv('data/product_click.log', sep=' ', header=None)\n",
    "print(plog.head())\n",
    "print(plog.info())"
   ]
  },
  {
   "cell_type": "code",
   "execution_count": null,
   "metadata": {},
   "outputs": [],
   "source": [
    "plog.columns = ['oldclicktime', 'clickpid']"
   ]
  },
  {
   "cell_type": "code",
   "execution_count": null,
   "metadata": {},
   "outputs": [],
   "source": [
    "print(plog.head())"
   ]
  },
  {
   "cell_type": "code",
   "execution_count": null,
   "metadata": {},
   "outputs": [],
   "source": [
    "plog['oldclicktime'] =plog['oldclicktime'].astype('str')\n",
    "print(plog.info())"
   ]
  },
  {
   "cell_type": "code",
   "execution_count": null,
   "metadata": {},
   "outputs": [],
   "source": [
    "plog['newclicktime'] = pd.to_datetime(plog['oldclicktime'], format='%Y%m%d%H%M' )"
   ]
  },
  {
   "cell_type": "code",
   "execution_count": null,
   "metadata": {},
   "outputs": [],
   "source": [
    "print(plog.info())\n",
    "print(plog.head())"
   ]
  },
  {
   "cell_type": "code",
   "execution_count": null,
   "metadata": {},
   "outputs": [],
   "source": [
    "plog['year'] = plog['newclicktime'].dt.year\n",
    "plog['month'] = plog['newclicktime'].dt.month\n",
    "plog['day'] = plog['newclicktime'].dt.day"
   ]
  },
  {
   "cell_type": "code",
   "execution_count": null,
   "metadata": {},
   "outputs": [],
   "source": [
    "plog['hour'] = plog['newclicktime'].dt.hour\n",
    "plog['minute'] = plog['newclicktime'].dt.minute"
   ]
  },
  {
   "cell_type": "code",
   "execution_count": null,
   "metadata": {},
   "outputs": [],
   "source": [
    "plog.info()\n",
    "plog.head(30)"
   ]
  },
  {
   "cell_type": "code",
   "execution_count": null,
   "metadata": {},
   "outputs": [],
   "source": [
    "plog.to_pickle(\"product_log.pickle\")"
   ]
  },
  {
   "cell_type": "code",
   "execution_count": null,
   "metadata": {},
   "outputs": [],
   "source": [
    "from matplotlib import font_manager, rc\n",
    "font_path = \"data/THEdog.ttf\"   #폰트파일의 위치\n",
    "font_name = font_manager.FontProperties(fname=font_path).get_name()\n",
    "rc('font', family=font_name)"
   ]
  },
  {
   "cell_type": "code",
   "execution_count": null,
   "metadata": {},
   "outputs": [],
   "source": [
    "import pandas as pd\n",
    "import seaborn as sns\n",
    "import numpy as np\n",
    "from matplotlib import pyplot as plt"
   ]
  },
  {
   "cell_type": "code",
   "execution_count": null,
   "metadata": {},
   "outputs": [],
   "source": [
    "plog = pd.read_pickle(\"product_log.pickle\") # to_pickle()\n",
    "display(plog.head())"
   ]
  },
  {
   "cell_type": "code",
   "execution_count": null,
   "metadata": {},
   "outputs": [],
   "source": [
    "clickpid_agg = plog.groupby('clickpid').size()\n",
    "display(clickpid_agg)\n",
    "result = clickpid_agg.sort_values(ascending=False)\n",
    "display(result)"
   ]
  },
  {
   "cell_type": "code",
   "execution_count": null,
   "metadata": {},
   "outputs": [],
   "source": [
    "plt.figure(figsize=(10,10))\n",
    "mycolors = sns.color_palette('hls',len(result))\n",
    "result.plot(kind='bar', grid=True, color=mycolors, rot=20)\n",
    "plt.xlabel('상품 ID', size=15)\n",
    "plt.ylabel('클릭횟수', size=15)\n",
    "plt.title('상품별 클릭 횟수', size=20)\n",
    "plt.show()"
   ]
  },
  {
   "cell_type": "code",
   "execution_count": null,
   "metadata": {},
   "outputs": [],
   "source": [
    "hagg = plog.groupby('hour').size()\n",
    "hagg"
   ]
  },
  {
   "cell_type": "code",
   "execution_count": null,
   "metadata": {},
   "outputs": [],
   "source": [
    "s_hagg = hagg.sort_values(ascending=False)\n",
    "start = s_hagg.index[0]\n",
    "end = s_hagg.index[0]+1\n",
    "print(start, \"시와 \", end, \"시 사이에 제일 많이 클릭했습니다.\", sep=\"\")"
   ]
  },
  {
   "cell_type": "code",
   "execution_count": null,
   "metadata": {},
   "outputs": [],
   "source": [
    "plog['wday'] = plog['newclicktime'].dt.weekday"
   ]
  },
  {
   "cell_type": "code",
   "execution_count": null,
   "metadata": {},
   "outputs": [],
   "source": [
    "display(plog)\n",
    "wday_agg = plog.groupby('wday').size()\n",
    "display(wday_agg)\n"
   ]
  },
  {
   "cell_type": "code",
   "execution_count": null,
   "metadata": {},
   "outputs": [],
   "source": [
    "wday_agg.index = [\"월\", \"화\", \"수\", \"목\", \"금\", \"토\"]\n",
    "print(wday_agg)"
   ]
  },
  {
   "cell_type": "code",
   "execution_count": null,
   "metadata": {},
   "outputs": [],
   "source": [
    "result = wday_agg.sort_values(ascending=False)\n",
    "print(\"클릭 수가 제일 많은 요일은 \"+ result.index[0]+\"요일입니다.\")"
   ]
  },
  {
   "cell_type": "code",
   "execution_count": null,
   "metadata": {},
   "outputs": [],
   "source": [
    "emp = pd.read_csv(\"data/emp.csv\")"
   ]
  },
  {
   "cell_type": "code",
   "execution_count": null,
   "metadata": {},
   "outputs": [],
   "source": [
    "emp"
   ]
  },
  {
   "cell_type": "code",
   "execution_count": null,
   "metadata": {},
   "outputs": [],
   "source": [
    "emp.groupby('deptno').agg({'sal':'sum'})"
   ]
  },
  {
   "cell_type": "code",
   "execution_count": null,
   "metadata": {},
   "outputs": [],
   "source": [
    "emp.groupby('job').agg({'sal':'sum'})"
   ]
  },
  {
   "cell_type": "code",
   "execution_count": null,
   "metadata": {},
   "outputs": [],
   "source": [
    "emp.groupby(['deptno', 'job']).agg({'sal':'mean', 'hiredate' : 'min'})"
   ]
  },
  {
   "cell_type": "code",
   "execution_count": null,
   "metadata": {},
   "outputs": [],
   "source": [
    "emp.groupby(['job', 'deptno']).agg({'sal':'max'})"
   ]
  }
 ],
 "metadata": {
  "kernelspec": {
   "display_name": "pydatavenv",
   "language": "python",
   "name": "pydatavenv"
  },
  "language_info": {
   "codemirror_mode": {
    "name": "ipython",
    "version": 3
   },
   "file_extension": ".py",
   "mimetype": "text/x-python",
   "name": "python",
   "nbconvert_exporter": "python",
   "pygments_lexer": "ipython3",
   "version": "3.7.9"
  }
 },
 "nbformat": 4,
 "nbformat_minor": 4
}
