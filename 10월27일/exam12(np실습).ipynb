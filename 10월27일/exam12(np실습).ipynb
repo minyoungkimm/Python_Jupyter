{
 "cells": [
  {
   "cell_type": "code",
   "execution_count": 1,
   "metadata": {},
   "outputs": [
    {
     "name": "stdout",
     "output_type": "stream",
     "text": [
      "list => [1, 2, 3, 4]\n",
      "type => <class 'list'>\n",
      "----------------------------------\n",
      "array => [1 2 3 4]\n",
      "type => <class 'numpy.ndarray'>\n",
      "b.dtype => int32\n",
      "b[0] type => <class 'numpy.int32'>\n",
      "----------------------------------\n",
      "array => ['100' 'Hello' '3.141592']\n",
      "type => <class 'numpy.ndarray'>\n",
      "c.dtype => <U11\n",
      "c[0] type => <class 'numpy.str_'>\n"
     ]
    }
   ],
   "source": [
    "# ndarray 생성 및 type 확인\n",
    "\n",
    "import numpy as np\n",
    "\n",
    "a = [1,2,3,4]\n",
    "print(\"list => {}\".format(a))       # [1,2,3,4]  \n",
    "print(\"type => {}\".format(type(a))) # <class 'list'>\n",
    "print(\"----------------------------------\")\n",
    "\n",
    "b = np.array([1,2,3,4])\n",
    "print(\"array => {}\".format(b))         # [1 2 3 4]\n",
    "print(\"type => {}\".format(type(b)))    # <class 'numpy.ndarray'>\n",
    "print(\"b.dtype => {}\".format(b.dtype)) # dtype : 배열 데이터 타입 속성\n",
    "                                       # int32\n",
    "print(\"b[0] type => {}\".format(type(b[0]))) # <class 'numpy.int32'>\n",
    "print(\"----------------------------------\")\n",
    "\n",
    "c = np.array([100,\"Hello\",3.141592])\n",
    "print(\"array => {}\".format(c))         # array => ['100' 'Hello' '3.141592'],  \n",
    "print(\"type => {}\".format(type(c)))    # type => <class 'numpy.ndarray'>  \n",
    "print(\"c.dtype => {}\".format(c.dtype)) # b.dtype => <U11  (유니코드 형식)\n",
    "print(\"c[0] type => {}\".format(type(c[0]))) # <class 'numpy.str_'>"
   ]
  },
  {
   "cell_type": "code",
   "execution_count": 2,
   "metadata": {},
   "outputs": [
    {
     "name": "stdout",
     "output_type": "stream",
     "text": [
      "[[1 2 3]\n",
      " [4 5 6]]\n",
      "1행 2열의 값은 : 6\n",
      "[[1. 2. 3.]\n",
      " [4. 5. 6.]]\n"
     ]
    }
   ],
   "source": [
    "# 다차원 ndarray와 data type 지정\n",
    "\n",
    "import numpy as np\n",
    " \n",
    "my_list = [[1,2,3], [4,5,6]] # 리스트 안에 리스트\n",
    "arr = np.array(my_list)\n",
    "\n",
    "print(\"{}\".format(arr))  # [[1 2 3]\n",
    "                         #  [4 5 6]]\n",
    "    \n",
    "print(\"1행 2열의 값은 : {}\".format(arr[1,2])) # 1행 2열의 값은 : 6\n",
    "# 실제로는 2행 3열\n",
    "\n",
    "# ndarray 생성시 dtype 명시\n",
    "# ndarray 생성 시 명시적으로 타입을 지정하지 않으면\n",
    "# 데이터를 보고 적절한 타입을 알아서 지정\n",
    "# 혹은 ndarray 생성 시 data type을 지정할 수 있다.\n",
    "\n",
    "my_list = [[1,2,3], [4,5,6]]\n",
    "arr = np.array(my_list, dtype=np.float64)\n",
    "\n",
    "print(\"{}\".format(arr))  # [[1. 2. 3.]\n",
    "                         #  [4. 5. 6.]]\n"
   ]
  },
  {
   "cell_type": "code",
   "execution_count": 6,
   "metadata": {},
   "outputs": [
    {
     "name": "stdout",
     "output_type": "stream",
     "text": [
      "arr.ndim => 1\n",
      "arr.shape => (4,)\n",
      "arr.ndim => 2\n",
      "arr.shape => (4, 2)\n",
      "arr.ndim => 3\n",
      "arr.shape => (2, 2, 3)\n",
      "[[[ 1  2  3]\n",
      "  [ 4  5  6]]\n",
      "\n",
      " [[ 7  8  9]\n",
      "  [10 11 12]]]\n"
     ]
    }
   ],
   "source": [
    "# ndarray의 차원 관련 속성 : ndim, shape\n",
    "\n",
    "import numpy as np\n",
    "\n",
    "# 1차원\n",
    "list = [1,2,3,4]\n",
    "arr = np.array(list)\n",
    "\n",
    "print(\"arr.ndim => {}\".format(arr.ndim))   # arr.ndim => 1\n",
    "print(\"arr.shape => {}\".format(arr.shape)) # arr.shape => (4,)\n",
    "\n",
    "\n",
    "# 2차원\n",
    "list = [[1,2],[3,4],[5,6],[7,8]]\n",
    "arr = np.array(list)\n",
    "\n",
    "print(\"arr.ndim => {}\".format(arr.ndim))   # arr.ndim => 2\n",
    "print(\"arr.shape => {}\".format(arr.shape)) # arr.shape => (4, 2)\n",
    "\n",
    "\n",
    "# 3차원 (2,2,3) 형태를 list로 만들어보자!\n",
    "list = [[[1,2,3],[4,5,6]],[[7,8,9],[10,11,12]]]\n",
    "arr = np.array(list)\n",
    "print(\"arr.ndim => {}\".format(arr.ndim))   # arr.ndim => 3\n",
    "print(\"arr.shape => {}\".format(arr.shape)) # arr.shape => (2, 2, 3) 층/행/열 순서\n",
    "print(arr)"
   ]
  },
  {
   "cell_type": "code",
   "execution_count": 8,
   "metadata": {},
   "outputs": [
    {
     "name": "stdout",
     "output_type": "stream",
     "text": [
      "arr.shape => (4,)\n",
      "크기(size) : 4\n",
      "크기(len) : 4\n",
      "arr.shape => (2, 2)\n",
      "크기(size) : 4\n",
      "크기(len) : 2\n",
      "[[1 2]\n",
      " [3 4]]\n",
      "arr.shape => (4, 1, 1)\n",
      "[[[1]]\n",
      "\n",
      " [[2]]\n",
      "\n",
      " [[3]]\n",
      "\n",
      " [[4]]]\n"
     ]
    }
   ],
   "source": [
    "# ndarray의 크기 속성과 shape 조절\n",
    "\n",
    "import numpy as np\n",
    "\n",
    "list = [1,2,3,4]\n",
    "arr = np.array(list)\n",
    "\n",
    "print(\"arr.shape => {}\".format(arr.shape))   # arr.shape => (4,)\n",
    "print(\"크기(size) : {}\".format(arr.size))    # 배열 요소의 수 : 4 \n",
    "print(\"크기(len) : {}\".format(len(arr)))     # 1차원배열길이 : 4\n",
    "\n",
    "\n",
    "arr.shape = 2,2    # shape 변경\n",
    "print(\"arr.shape => {}\".format(arr.shape))   # arr.shape => (2, 2)\n",
    "print(\"크기(size) : {}\".format(arr.size))    # 배열 요소의 수 : 4\n",
    "print(\"크기(len) : {}\".format(len(arr)))     # 1차원배열길이 : 2\n",
    "print(arr)\n",
    "\n",
    "arr.shape = 4,1,1  # shape 변경\n",
    "print(\"arr.shape => {}\".format(arr.shape))   # arr.shape => (4, 1, 1)\n",
    "print(arr)\n"
   ]
  },
  {
   "cell_type": "code",
   "execution_count": 7,
   "metadata": {},
   "outputs": [
    {
     "name": "stdout",
     "output_type": "stream",
     "text": [
      "arr.dtype : float64\n",
      "arr.dtype : int32\n",
      "[1 2 3 4 5]\n"
     ]
    }
   ],
   "source": [
    "# astype()을 이용한 ndarray data type 변경\n",
    "\n",
    "import numpy as np\n",
    "\n",
    "arr = np.array([1.2, 2.5, 3.8, 4.2, 5.3])\n",
    "print(\"arr.dtype : {}\".format(arr.dtype))  # float64\n",
    "\n",
    "arr = arr.astype(np.int32)\n",
    "print(\"arr.dtype : {}\".format(arr.dtype))  # int32\n",
    "print(arr)  # [1 2 3 4 5]  소수점 이하 버림 처리"
   ]
  },
  {
   "cell_type": "code",
   "execution_count": 9,
   "metadata": {},
   "outputs": [
    {
     "name": "stdout",
     "output_type": "stream",
     "text": [
      "arr의 크기 : 5\n",
      "arr :  [0 2 4 6 8]\n",
      "arr의 크기 : 10\n",
      "arr :  [0 1 2 3 4 5 6 7 8 9]\n",
      "arr의 크기 : 6\n",
      "arr :  [0.1 1.1 2.1 3.1 4.1 5.1]\n"
     ]
    }
   ],
   "source": [
    "# ndarray 다양한 생성 함수-arange\n",
    "\n",
    "import numpy as np\n",
    "\n",
    "# python의 range()와 유사\n",
    "# 주어진 범위 내에서 지정한 간격으로 \n",
    "# 연속적인 원소를 가진 배열을 생성\n",
    "# np.arange(시작,끝,간격)\n",
    "# 시작은 inclusive, 끝은 exclusive \n",
    "\n",
    "arr = np.arange(0,10,2)\n",
    "print(\"arr의 크기 : {}\".format(arr.size))\n",
    "print(\"arr : \",arr)    # [0 2 4 6 8]\n",
    "\n",
    "arr = np.arange(10)\n",
    "print(\"arr의 크기 : {}\".format(arr.size))\n",
    "print(\"arr : \",arr)    # [0 1 2 3 4 5 6 7 8 9]\n",
    "\n",
    "arr = np.arange(0.1,5.3)\n",
    "print(\"arr의 크기 : {}\".format(arr.size))\n",
    "print(\"arr : \",arr)    # [0.1 1.1 2.1 3.1 4.1 5.1]\n"
   ]
  },
  {
   "cell_type": "code",
   "execution_count": 10,
   "metadata": {},
   "outputs": [
    {
     "name": "stdout",
     "output_type": "stream",
     "text": [
      "arr의 크기 : 11\n",
      "[ 0.  1.  2.  3.  4.  5.  6.  7.  8.  9. 10.]\n"
     ]
    },
    {
     "data": {
      "image/png": "[encoded data removed]",
      "text/plain": [
       "<Figure size 432x288 with 1 Axes>"
      ]
     },
     "metadata": {
      "needs_background": "light"
     },
     "output_type": "display_data"
    },
    {
     "name": "stdout",
     "output_type": "stream",
     "text": [
      "[  1.   5.   9.  13.  17.  21.  25.  29.  33.  37.  41.  45.  49.  53.\n",
      "  57.  61.  65.  69.  73.  77.  81.  85.  89.  93.  97. 101. 105. 109.\n",
      " 113. 117. 121.]\n"
     ]
    },
    {
     "data": {
      "image/png": "[encoded data removed]",
      "text/plain": [
       "<Figure size 432x288 with 1 Axes>"
      ]
     },
     "metadata": {
      "needs_background": "light"
     },
     "output_type": "display_data"
    }
   ],
   "source": [
    "# ndarray 다양한 생성 함수-linspace\n",
    "# 균등한 간격으로 여러 데이터를 만들어야 할 때 유용하게 사용\n",
    "import numpy as np\n",
    "import matplotlib.pyplot as plt\n",
    "\n",
    "# np.linspace(start,stop,num)\n",
    "# start부터 stop의 범위에서 num개를 균일한 간격으로\n",
    "# 데이터를 생성하고 배열을 만드는 함수\n",
    "# 원소간 간격은 (stop-start)/(num - 1).\n",
    "# num의 default값은 50\n",
    "\n",
    "arr = np.linspace(0,10,11)\n",
    "print(\"arr의 크기 : {}\".format(arr.size))\n",
    "print(arr)\n",
    "plt.plot(arr,\"*\")   # plt.plot()은 선그래프를 그려준다.\n",
    "plt.show()\n",
    "\n",
    "arr = np.linspace(1,121,31)\n",
    "print(arr)\n",
    "plt.plot(arr,\"o\")\n",
    "plt.show()"
   ]
  },
  {
   "cell_type": "code",
   "execution_count": 11,
   "metadata": {},
   "outputs": [],
   "source": [
    "# ndarray 다양한 생성 함수-random 기반\n",
    "\n",
    "# np.random.normal() : 정규분포 확률밀도에서 실수 표본추출\n",
    "# np.random.rand() : [0,1)의 균등분포 확률밀도에서 실수 표본추출\n",
    "# np.random.randn() : 표준정규분포(평균:0, 표준편차:1) 확률밀도에서 실수 표본추출\n",
    "# np.random.randint() : 주어진 범위에서 균등분포 확률밀도에서 정수 표본추출\n",
    "# np.random.random() : [0,1)의 균등분포 확률밀도에서 실수 표본추출\n",
    "\n",
    "import numpy as np\n",
    "import matplotlib.pyplot as plt"
   ]
  },
  {
   "cell_type": "code",
   "execution_count": 12,
   "metadata": {},
   "outputs": [
    {
     "data": {
      "image/png": "[encoded data removed]",
      "text/plain": [
       "<Figure size 432x288 with 1 Axes>"
      ]
     },
     "metadata": {
      "needs_background": "light"
     },
     "output_type": "display_data"
    }
   ],
   "source": [
    "# np.random.normal(정규 분포의 평균,표준편차,shape)\n",
    "# 정규분포 확률밀도에서 실수 표본추출\n",
    "# 추출된 난수는 정규분포의 형상을 가진다.\n",
    "\n",
    "mean = 50\n",
    "std = 2\n",
    "arr = np.random.normal(mean,std,(10000,))\n",
    "plt.hist(arr,bins=100)\n",
    "plt.show()"
   ]
  },
  {
   "cell_type": "code",
   "execution_count": 13,
   "metadata": {},
   "outputs": [
    {
     "data": {
      "image/png": "[encoded data removed]",
      "text/plain": [
       "<Figure size 432x288 with 1 Axes>"
      ]
     },
     "metadata": {
      "needs_background": "light"
     },
     "output_type": "display_data"
    }
   ],
   "source": [
    "# np.random.rand(d0,d1,d2,...)\n",
    "# 난수[0,1) 균등분포 확률 밀도에서 표본을 추출\n",
    "# [](대괄호)는 이상, 이하의 의미, ()(소괄호)는 초과,미만의 의미\n",
    "# 추출된 난수는 균등분포의 형상을 가진다.\n",
    "arr = np.random.rand(10000)\n",
    "plt.hist(arr,bins=100)\n",
    "plt.show()"
   ]
  },
  {
   "cell_type": "code",
   "execution_count": 14,
   "metadata": {},
   "outputs": [
    {
     "data": {
      "image/png": "[encoded data removed]",
      "text/plain": [
       "<Figure size 432x288 with 1 Axes>"
      ]
     },
     "metadata": {
      "needs_background": "light"
     },
     "output_type": "display_data"
    }
   ],
   "source": [
    "########################\n",
    "\n",
    "# np.random.randn(d0,d1,d2,...)\n",
    "# 표준 정규 분포 확률 밀도에서 표본을 추출\n",
    "# 추출된 난수는 정규분포의 형상을 가진다.\n",
    "arr = np.random.randn(10000) # 평균0 표준편차1\n",
    "plt.hist(arr,bins=100)\n",
    "plt.show()"
   ]
  },
  {
   "cell_type": "code",
   "execution_count": 15,
   "metadata": {},
   "outputs": [
    {
     "data": {
      "image/png": "[encoded data removed]",
      "text/plain": [
       "<Figure size 432x288 with 1 Axes>"
      ]
     },
     "metadata": {
      "needs_background": "light"
     },
     "output_type": "display_data"
    }
   ],
   "source": [
    "########################\n",
    "\n",
    "# np.random.randint(low,high,shape)\n",
    "# 균등 분포 확률 밀도에서 정수 표본을 추출\n",
    "# 추출된 정수 난수는 해당 범위에서 균등 분포의 형상을 가진다.\n",
    "arr = np.random.randint(-100,100,(1000,)) # (100,)같이 튜플로 주면 고차원으로 생성가능\n",
    "plt.hist(arr,bins=100)\n",
    "plt.show()"
   ]
  },
  {
   "cell_type": "code",
   "execution_count": 35,
   "metadata": {},
   "outputs": [
    {
     "data": {
      "text/plain": [
       "array([[75,  5, 81],\n",
       "       [ 5, 42, 86],\n",
       "       [52, 57, 56],\n",
       "       [78, 87, 81],\n",
       "       [10, 72, 48],\n",
       "       [19, 12, 25],\n",
       "       [77, 16,  4],\n",
       "       [88, 27, 50],\n",
       "       [68,  3, 58],\n",
       "       [12,  2, 76]])"
      ]
     },
     "execution_count": 35,
     "metadata": {},
     "output_type": "execute_result"
    }
   ],
   "source": [
    "np.random.randint(0,100,(10,3))"
   ]
  },
  {
   "cell_type": "code",
   "execution_count": 16,
   "metadata": {},
   "outputs": [
    {
     "data": {
      "image/png": "[encoded data removed]",
      "text/plain": [
       "<Figure size 432x288 with 1 Axes>"
      ]
     },
     "metadata": {
      "needs_background": "light"
     },
     "output_type": "display_data"
    }
   ],
   "source": [
    "########################\n",
    "\n",
    "# np.random.random(shape)\n",
    "# [0,1) 균등 분포 확률 밀도에서 표본을 추출\n",
    "# 추출된 난수는 해당 범위에서 균등 분포의 형상을 가진다.\n",
    "arr = np.random.random((10000,))\n",
    "plt.hist(arr,bins=100)\n",
    "plt.show()"
   ]
  },
  {
   "cell_type": "code",
   "execution_count": 20,
   "metadata": {},
   "outputs": [
    {
     "name": "stdout",
     "output_type": "stream",
     "text": [
      "[37 12 72  9 75  5 79 64 16  1]\n"
     ]
    }
   ],
   "source": [
    "# random 기반의 배열 생성의 재현성을 확보해보자!!\n",
    "# 난수는 특정 시작 숫자로부터 난수처럼 보이는 수열을 만드는\n",
    "# 알고리즘의 결과물\n",
    "\n",
    "# 시작점을 설정하면 같은 난수를 발생시킬 수 있다. ( 난수의 재현 )\n",
    "# np.random.seed(x) : 난수의 시작점을 설정하는 함수\n",
    "\n",
    "import numpy as np\n",
    "\n",
    "np.random.seed(1)\n",
    "arr = np.random.randint(0,100,(10,))\n",
    "print(arr)"
   ]
  },
  {
   "cell_type": "code",
   "execution_count": 19,
   "metadata": {},
   "outputs": [
    {
     "name": "stdout",
     "output_type": "stream",
     "text": [
      "[0 1 2 3 4 5 6 7 8 9]\n",
      "[8 3 5 9 0 6 1 7 4 2]\n"
     ]
    }
   ],
   "source": [
    "##################\n",
    "\n",
    "# 데이터의 순서를 바꾸려면 shuffle()을 이용합니다. \n",
    "\n",
    "arr = np.arange(10)\n",
    "print(arr)\n",
    "np.random.shuffle(arr)   # arr의 데이터 순서를 변경\n",
    "print(arr)"
   ]
  },
  {
   "cell_type": "code",
   "execution_count": 22,
   "metadata": {},
   "outputs": [
    {
     "name": "stdout",
     "output_type": "stream",
     "text": [
      "[2 4 3]\n",
      "[3 2 1 0 3 1 1 3 4 0]\n",
      "[2 3 3 0 3 3 3 2 3 2]\n"
     ]
    }
   ],
   "source": [
    "# 데이터 집합에서 일부를 무작위로 선택하는 샘플링(sampling)을 \n",
    "# 수행하려면 choice()를 이용합니다. \n",
    "\n",
    "# numpy.random.choice(a, size=None, replace=True, p=None)\n",
    "\n",
    "# a : 배열 혹은 정수\n",
    "#     만약 정수면 arange(a) 명령으로 데이터 생성\n",
    "# size : 정수. 샘플 숫자\n",
    "# replace : True이면 한번 선택한 데이터를 다시 선택 할 수 있음.\n",
    "# p : ndarray. 각 데이터가 선택될 수 있는 확률을 명시.\n",
    "\n",
    "arr = np.random.choice(5, 3, replace=False)\n",
    "print(arr)\n",
    "arr = np.random.choice(5, 10)\n",
    "print(arr)\n",
    "arr = np.random.choice(5, 10, p=[0.1, 0, 0.3, 0.6, 0])\n",
    "print(arr)\n"
   ]
  },
  {
   "cell_type": "code",
   "execution_count": 33,
   "metadata": {},
   "outputs": [
    {
     "name": "stdout",
     "output_type": "stream",
     "text": [
      "[23 21 16 18 41  2]\n"
     ]
    }
   ],
   "source": [
    "# 1-45 사이의 값 6개 (중복없이) ---> 로또번호 생성\n",
    "lotto = np.random.choice(np.arange(1,46,1), 6, replace = False)\n",
    "print(lotto)"
   ]
  },
  {
   "cell_type": "code",
   "execution_count": 36,
   "metadata": {},
   "outputs": [
    {
     "name": "stdout",
     "output_type": "stream",
     "text": [
      "[ 0  1  2  3  4  5  6  7  8  9 10 11]\n",
      "[[ 0  1  2]\n",
      " [ 3  4  5]\n",
      " [ 6  7  8]\n",
      " [ 9 10 11]]\n",
      "[  0   1   2   3 100   5   6   7   8   9  10  11]\n",
      "[[  0   1   2]\n",
      " [  3 100   5]\n",
      " [  6   7   8]\n",
      " [  9  10  11]]\n"
     ]
    }
   ],
   "source": [
    "# ndarray shape 조절 함수 - reshape\n",
    "\n",
    "import numpy as np\n",
    "\n",
    "arr = np.arange(0,12,1)\n",
    "print(arr)\n",
    "\n",
    "# 배열의 데이터는 공유하지만 shape이 다른 뷰(View)를 생성\n",
    "# 4행 3열로 reshape\n",
    "arr1 = arr.reshape(4,3)\n",
    "print(arr1)\n",
    "\n",
    "# 데이터가 공유되기 때문에 배열을 변경하면 다른 View에도\n",
    "# 영향을 미침\n",
    "# 데이터를 공유하는지 확인\n",
    "\n",
    "arr[4] = 100\n",
    "print(arr)\n",
    "print(arr1)"
   ]
  },
  {
   "cell_type": "code",
   "execution_count": 37,
   "metadata": {},
   "outputs": [
    {
     "name": "stdout",
     "output_type": "stream",
     "text": [
      "[  0   1   2   3 100   5   6   7   8   9  10  11]\n",
      "데이터 공유!!\n"
     ]
    }
   ],
   "source": [
    "#######################\n",
    "\n",
    "# base 속성을 이용하면 현재의 View의 데이터가 어떤 객체의 \n",
    "# 데이터 인지를 알 수 있다.\n",
    "\n",
    "print(arr1.base)\n",
    "\n",
    "if arr1.base is arr:\n",
    "    print(\"데이터 공유!!\")"
   ]
  },
  {
   "cell_type": "code",
   "execution_count": 38,
   "metadata": {},
   "outputs": [
    {
     "name": "stdout",
     "output_type": "stream",
     "text": [
      "[ 0  1  2  3  4  5  6  7  8  9 10 11]\n",
      "[[ 0  1  2]\n",
      " [ 3  4  5]\n",
      " [ 6  7  8]\n",
      " [ 9 10 11]]\n"
     ]
    }
   ],
   "source": [
    "#######################\n",
    "\n",
    "# reshape()을 사용할 때 차원 하나를 -1로 설정하면 \n",
    "# 배열의 전체 원소 개수와 확정된 차원 크기로 부터 \n",
    "# 남은 차원의 크기를 추론하여 배열을 생성\n",
    "\n",
    "arr = np.arange(0,12,1)\n",
    "print(arr)\n",
    "arr1 = arr.reshape(4,-1) # -1 : 열은 알아서 지정해줌\n",
    "print(arr1)\n"
   ]
  },
  {
   "cell_type": "code",
   "execution_count": 39,
   "metadata": {},
   "outputs": [],
   "source": [
    "#######################\n",
    "\n",
    "# View를 생성하지 않으려면 copy()를 이용하여 새로운\n",
    "# array 생성\n",
    "\n",
    "arr2 = arr.reshape(4,3).copy()\n"
   ]
  },
  {
   "cell_type": "code",
   "execution_count": 40,
   "metadata": {},
   "outputs": [
    {
     "name": "stdout",
     "output_type": "stream",
     "text": [
      "[[ 0  1  2  3  4  5  6  7  8  9 10 11 12 13 14 15 16 17 18 19]\n",
      " [20 21 22 23 24 25 26 27 28 29 30 31 32 33 34 35 36 37 38 39]\n",
      " [40 41 42 43 44 45 46 47 48 49 50 51 52 53 54 55 56 57 58 59]\n",
      " [60 61 62 63 64 65 66 67 68 69 70 71 72 73 74 75 76 77 78 79]\n",
      " [80 81 82 83 84 85 86 87 88 89 90 91 92 93 94 95 96 97 98 99]]\n",
      "[ 0  1  2  3  4  5  6  7  8  9 10 11 12 13 14 15 16 17 18 19 20 21 22 23\n",
      " 24 25 26 27 28 29 30 31 32 33 34 35 36 37 38 39 40 41 42 43 44 45 46 47\n",
      " 48 49 50 51 52 53 54 55 56 57 58 59 60 61 62 63 64 65 66 67 68 69 70 71\n",
      " 72 73 74 75 76 77 78 79 80 81 82 83 84 85 86 87 88 89 90 91 92 93 94 95\n",
      " 96 97 98 99]\n"
     ]
    }
   ],
   "source": [
    "# ndarray shape 조절 함수 - ravel\n",
    "\n",
    "import numpy as np\n",
    "\n",
    "# ravel() : 배열의 모든 원소가 포함된 1차원 배열을 리턴\n",
    "# ravel() 역시 View를 return\n",
    "\n",
    "arr = np.arange(0,100,1).reshape(5,-1).copy()\n",
    "print(arr)\n",
    "\n",
    "\n",
    "arr1 = arr.ravel() # 차원을 하나 감소시킴 (view형식,복사x)\n",
    "print(arr1)"
   ]
  },
  {
   "cell_type": "code",
   "execution_count": 41,
   "metadata": {},
   "outputs": [
    {
     "name": "stdout",
     "output_type": "stream",
     "text": [
      "[[5 8 9 5]\n",
      " [0 0 1 7]\n",
      " [6 9 2 4]]\n",
      "[[5 8 9 5 0 0]\n",
      " [1 7 6 9 2 4]]\n",
      "[[5 8 9 5]\n",
      " [0 0 1 7]\n",
      " [6 9 2 4]]\n",
      "None\n",
      "[[5 8 9 5 0 0]\n",
      " [1 7 6 9 2 4]]\n",
      "[[5 8 9 5 0]\n",
      " [0 1 7 6 9]\n",
      " [2 4 0 0 0]]\n",
      "[[5 8]\n",
      " [9 5]]\n"
     ]
    }
   ],
   "source": [
    "# ndarray shape 조절 함수 - resize\n",
    "\n",
    "# resize()는 reshape()과 유사한 기능을 수행.\n",
    "# 단, reshape()는 배열 요소 수를 변경하지 않는반면 resize()는\n",
    "# shape을 변경하는 과정에서 배열 요소 수가 변할 수 있다.\n",
    "\n",
    "import numpy as np\n",
    "\n",
    "np.random.seed(1)  # 결과가 계속 같도록\n",
    "\n",
    "arr = np.random.randint(0,10,(3,4)) # 0부터 9사이의 값으로 3행 4열 만들기(중복허용)\n",
    "print(arr)\n",
    "\n",
    "# resize()를 호출하는 방식에 따라서 원본 변경 혹은\n",
    "# 결과 배열이 리턴된다.\n",
    "# resize()는 reshape()과는 다르게 View를 생성하지 않는다.\n",
    "\n",
    "print(np.resize(arr,(2,6))) # 새로운 배열 생성\n",
    "                            # View 생성이 아님\n",
    "print(arr)\n",
    "\n",
    "print(arr.resize(2,6)) # return 없음. 원본 변경\n",
    "print(arr)\n",
    "\n",
    "arr.resize(3,5)  # 요소수가 늘어나면 0으로 세팅\n",
    "print(arr)\n",
    "\n",
    "arr.resize(2,2)  # 요소수가 줄면 기존 데이터를 버린다.\n",
    "print(arr)\n"
   ]
  },
  {
   "cell_type": "code",
   "execution_count": 47,
   "metadata": {},
   "outputs": [
    {
     "name": "stdout",
     "output_type": "stream",
     "text": [
      "index : 0, data : 10\n",
      "index : 1, data : 11\n",
      "index : 2, data : 12\n",
      "index : 3, data : 13\n",
      "index : 4, data : 14\n",
      "index : 5, data : 15\n",
      "index : 6, data : 16\n",
      "index : 7, data : 17\n",
      "index : 8, data : 18\n",
      "index : 9, data : 19\n",
      "[0 1 2 3 4]\n",
      "0\n",
      "[0]\n",
      "[0 1]\n",
      "[1 2 3]\n",
      "[0 2 4]\n",
      "[1 3]\n",
      "[0 2 4]\n"
     ]
    }
   ],
   "source": [
    "# ndarray indexing & slicing\n",
    "\n",
    "import numpy as np\n",
    "\n",
    "arr = np.arange(10,20,1)\n",
    "\n",
    "# ndarray는 python list처럼 indexing과 slicing이 가능\n",
    "\n",
    "for idx,data in enumerate(arr):\n",
    "    print(\"index : {}, data : {}\".format(idx,data))\n",
    "    \n",
    "# ndarray를 slicing한 결과는 View이기 때문에 \n",
    "# 원본 데이터가 변경되면 View의 데이터도 변경됨을 기억하자.\n",
    "\n",
    "arr = np.arange(0,5,1)\n",
    "print(arr)\n",
    "print(arr[0]) # 인덱싱\n",
    "print(arr[0:1]) # 슬라이싱\n",
    "print(arr[0:2])\n",
    "print(arr[1:-1])\n",
    "print(arr[0::2])  # 첫번째 원소부터 2씩 건너띄며 원소를 슬라이싱\n",
    "print(arr[1:4:2])\n",
    "print(arr[[0,2,4]]) # 안에 대괄호는 추추하고자하는 인덱스"
   ]
  },
  {
   "cell_type": "code",
   "execution_count": 48,
   "metadata": {},
   "outputs": [
    {
     "name": "stdout",
     "output_type": "stream",
     "text": [
      "6\n",
      "[ 9 10 11 12]\n",
      "[[ 5  6  7  8]\n",
      " [ 9 10 11 12]]\n",
      "[ 3  7 11 15]\n",
      "[[ 5  6]\n",
      " [ 9 10]]\n",
      "[[5]\n",
      " [9]]\n"
     ]
    }
   ],
   "source": [
    "# 2차원 ndarray의 indexing & slicing\n",
    "\n",
    "arr = np.array([[1,2,3,4],\n",
    "                [5,6,7,8],\n",
    "                [9,10,11,12],\n",
    "                [13,14,15,16]])\n",
    "print(arr[1,1])     # 2행 2열 꺼내기\n",
    "print(arr[2,:])     # 2차원 이상인 경우 \n",
    "                    # \",\"를 기준으로 인덱싱을 해야 한다.\n",
    "print(arr[1:3,:]) \n",
    "print(arr[:,2])\n",
    "print(arr[1:3,:2])\n",
    "print(arr[1:3,:1])\n"
   ]
  },
  {
   "cell_type": "code",
   "execution_count": 49,
   "metadata": {},
   "outputs": [
    {
     "name": "stdout",
     "output_type": "stream",
     "text": [
      "[5 8 9 5 0 0 1 7 6 9]\n",
      "[False  True False False  True  True False False  True False]\n",
      "[8 0 0 6]\n"
     ]
    }
   ],
   "source": [
    "# ndarray Boolean indexing & Fancy indexing\n",
    "\n",
    "# boolean indexing은 배열의 각 요소의 선택여부를 \n",
    "# True,False로 구성된 boolean mask를 이용하여 \n",
    "# 지정하는 방식으로 boolean mask의 True 요소에 해당하는 \n",
    "# index만을 조회.\n",
    "\n",
    "import numpy as np\n",
    "\n",
    "np.random.seed(1)\n",
    "arr = np.random.randint(0,10,(10,))\n",
    "\n",
    "print(arr)\n",
    "print(arr % 2 == 0)       # mask 생성\n",
    "print(arr[arr % 2 == 0])  # boolean indexing\n"
   ]
  },
  {
   "cell_type": "code",
   "execution_count": 50,
   "metadata": {},
   "outputs": [
    {
     "name": "stdout",
     "output_type": "stream",
     "text": [
      "[[ 0  1  2  3]\n",
      " [ 4  5  6  7]\n",
      " [ 8  9 10 11]]\n",
      "10\n",
      "[6]\n",
      "[[5]]\n",
      "----------------------------------------1\n",
      "[ 2 10]\n",
      "[[ 2]\n",
      " [10]]\n",
      "----------------------------------------2\n",
      "[[ 0  2]\n",
      " [ 4  6]\n",
      " [ 8 10]]\n",
      "[ 0 10]\n",
      "----------------------------------------3\n",
      "[[ 0  2]\n",
      " [ 8 10]]\n",
      "[[ 0  2]\n",
      " [ 8 10]]\n"
     ]
    }
   ],
   "source": [
    "##################################\n",
    "\n",
    "# Fancy Indexing\n",
    "\n",
    "# 배열에 index 배열을 전달하여 배열요소를 참조하는 방식\n",
    "\n",
    "import numpy as np\n",
    "\n",
    "arr = np.arange(0,12,1).reshape(3,4).copy()\n",
    "print(arr)\n",
    "\n",
    "print(arr[2,2])       # indexing : 10\n",
    "print(arr[1:2,2])     # slicing : [6]\n",
    "print(arr[1:2,1:2])   # slicing : [[5]]\n",
    "print(\"----------------------------------------1\")\n",
    "\n",
    "print(arr[[0,2],2])   # fancy indexing : [2 10]\n",
    "print(arr[[0,2],2:3]) # [[ 2]\n",
    "                      #  [10]]\n",
    "    \n",
    "print(\"----------------------------------------2\")\n",
    "\n",
    "print(arr[:,[0,2]])   # fancy indexing  \n",
    "                      # [[ 0  2]\n",
    "                      #  [ 4  6]\n",
    "                      #  [ 8 10]]\n",
    "    \n",
    "print(arr[[0,2],[0,2]]) # ?? 생각처럼 나오지 않는다.\n",
    "                        # 슬라이싱처럼 fancy indexing 적용 안됨\n",
    "\n",
    "print(\"----------------------------------------3\")    \n",
    "\n",
    "# 방법 1\n",
    "# 행을 먼저 추출한 후 해당 행에 대해 fancy indexing을 적용\n",
    "\n",
    "print(arr[[0,2]][:,[0,2]])  # [[ 0  2]\n",
    "                            #  [ 8 10]]\n",
    "\n",
    "# 방법 2\n",
    "# numpy의 ix_() 함수를 이용\n",
    "\n",
    "print(arr[np.ix_([0,2],[0,2])]) # [[ 0  2]\n",
    "                                # [ 8 10]]"
   ]
  },
  {
   "cell_type": "code",
   "execution_count": 51,
   "metadata": {},
   "outputs": [
    {
     "name": "stdout",
     "output_type": "stream",
     "text": [
      "[[1 2 3]\n",
      " [4 5 6]]\n",
      "[[10 11 12]\n",
      " [13 14 15]]\n",
      "[[10 11]\n",
      " [12 13]\n",
      " [14 15]]\n",
      "[[11 13 15]\n",
      " [17 19 21]]\n",
      "[[-9 -9 -9]\n",
      " [-9 -9 -9]]\n",
      "[[10 22 36]\n",
      " [52 70 90]]\n",
      "[[0.1        0.18181818 0.25      ]\n",
      " [0.30769231 0.35714286 0.4       ]]\n",
      "행렬곱 :  [[ 76  82]\n",
      " [184 199]]\n"
     ]
    }
   ],
   "source": [
    "# ndarray 사칙연산과 행렬곱\n",
    "\n",
    "import numpy as np\n",
    "\n",
    "arr1 = np.array([[1,2,3],[4,5,6]])            # 2 x 3 ndarray\n",
    "arr2 = np.arange(10,16,1).reshape(2,3).copy() # 2 x 3 ndarray\n",
    "arr3 = np.arange(10,16,1).reshape(3,2).copy() # 3 x 2 ndarray\n",
    "\n",
    "print(arr1)\n",
    "print(arr2)\n",
    "print(arr3)\n",
    "\n",
    "# 같은 크기의 배열 간의 연산은 \n",
    "# 같은 위치에 있는 원소 간의 연산으로 결과가 계산\n",
    "\n",
    "print(arr1 + 100)\n",
    "\n",
    "print(arr1 + arr2)  # np.add(arr1,arr2)\n",
    "print(arr1 - arr2)  # np.subtract(arr1,arr2)\n",
    "print(arr1 * arr2)  # np.multiply(arr1,arr2)\n",
    "print(arr1 / arr2)  # np.divide(arr1,arr2)\n",
    "\n",
    "# 두 행렬간의 행렬곱은 np.matmul() 혹은 np.dot()으로 수행가능\n",
    "# np.dot(A,B)에서 A 행렬의 열 vector와 B 행렬의 행 vector의 size가 같아야 한다.\n",
    "# 그렇지 않으면 이전에 배운 reshape이나 전치행렬을 이용하여 형 변환 후 크기를\n",
    "# 맞추고 연산을 수행해야 한다.\n",
    "\n",
    "print(\"행렬곱 : \", np.matmul(arr1,arr3))  # np.dot(arr1,arr3)\n",
    "\n",
    "\n",
    "# 이런 행렬곱을 왜 알아야 할까?\n",
    "# 행렬곱이 없다면 matrix연산은 무조건 같은 크기의 사칙연산만을 수행할 수 있다.\n",
    "# 하지만 행렬곱을 이용하면 \n",
    "# 행렬곱 조건을 만족하는 다양한 크기의 행렬을 이용하여 연속적으로\n",
    "# 행렬곱을 수행시킬 수 있기 때문.\n",
    "# 이러한 특성이 Machine Learning과 Image processing에서 자주 사용된다.\n",
    "\n",
    "# 예) 입력 : 32 x 32 matrix (image라고 가정)\n",
    "#     출력 : 32 x 10 matrix (다양한 처리가 적용된 image)\n",
    "#     행렬곱 : (32 x 32) dot (32 x 128) dot (128,64) dot (64 x 10) => 32 x 10\n",
    "\n",
    "# 위의 예처럼 행렬곱 특성을 이용하면 다양한 크기의 행렬을 이용하여 원본 데이터를\n",
    "# 변경시키는 것이 가능. 만약 행렬곱이 없고 사칙연산만 수행할 수 있다면\n",
    "# 32 x 32 형태의 크기를 가지는 특성(행렬)만 이용할 수 있기 때문에 \n",
    "# 다양한 특성을 가지는 필터 개발이 불가능하다."
   ]
  },
  {
   "cell_type": "code",
   "execution_count": 1,
   "metadata": {},
   "outputs": [
    {
     "name": "stdout",
     "output_type": "stream",
     "text": [
      "[[1 2 3]\n",
      " [4 5 6]]\n",
      "[7 8 9]\n",
      "[[ 8 10 12]\n",
      " [11 13 15]]\n"
     ]
    }
   ],
   "source": [
    "# ndarray broadcasting\n",
    "\n",
    "# shape이 다른 경우 두 배열에 대한 이항연산은 두 배열간의 shape을\n",
    "# 맞추는 broadcasting과정을 거친 후 수행된다.\n",
    "# 가장 일반적인 경우는 배열과 scalar의 연산\n",
    "\n",
    "import numpy as np\n",
    "\n",
    "arr1 = np.array([[1,2,3],[4,5,6]])   # 2 x 3 ndarray\n",
    "arr2 = np.array([7,8,9])             # 1차원 ndarray \n",
    "print(arr1)\n",
    "print(arr2)\n",
    "print(arr1 + arr2)  # arr2를 2차배열로 broadcasting\n",
    "\n",
    "arr1 = np.array([[1,2,3],[4,5,6]])\n",
    "arr2 = np.array([[1,2],[4,5]])\n",
    "# print(arr1 + arr2)  # broadcasting이 일어날 수 없다. Error 발생\n",
    "\n",
    "# 주의!!\n",
    "# 이런 ndarray의 broadcasting은 사칙연산에 한해서 일어나게 된다.\n",
    "# 즉, 행렬곱 연산에 대해서는 broadcasting이 발생하지 않는다."
   ]
  },
  {
   "cell_type": "code",
   "execution_count": 2,
   "metadata": {},
   "outputs": [
    {
     "name": "stdout",
     "output_type": "stream",
     "text": [
      "[[1 2 3]\n",
      " [4 5 6]]\n",
      "[[1 4]\n",
      " [2 5]\n",
      " [3 6]]\n",
      "[[100   2   3]\n",
      " [  4   5   6]]\n",
      "[[100   4]\n",
      " [  2   5]\n",
      " [  3   6]]\n",
      "[1 2 3 4]\n",
      "[1 2 3 4]\n",
      "[[1]\n",
      " [2]\n",
      " [3]\n",
      " [4]]\n"
     ]
    }
   ],
   "source": [
    "# ndarray transpose\n",
    "\n",
    "# 일반적으로 전치행렬이라고 불리는 transpose에 대해서 알아보자.\n",
    "# 전치행렬은 원본 행렬의 행은 열로, 열은 행으로 바꾼 행렬을 의미\n",
    "# 전치행렬의 수학적 표현은 윗첨자 T를 이용해서 표현한다. \n",
    "# ndarray의 T 속성을 이용하면 전치행렬을 구할 수 있다.(View)\n",
    "\n",
    "import numpy as np\n",
    "\n",
    "arr = np.array([[1,2,3],[4,5,6]])   # 2 x 3 ndarray\n",
    "\n",
    "arr_transpose = arr.T\n",
    "\n",
    "print(arr)\n",
    "print(arr_transpose)\n",
    "\n",
    "arr[0,0] = 100\n",
    "\n",
    "print(arr)\n",
    "print(arr_transpose)   # 전치행렬 또한 View\n",
    "\n",
    "# Vector에 대한 transpose\n",
    "\n",
    "arr = np.array([1, 2, 3, 4])\n",
    "arr_transpose = arr.T    \n",
    "\n",
    "print(arr)\n",
    "print(arr_transpose)   # vector에 대한 전치행렬은 의미없음.\n",
    "\n",
    "# 만약 전치행렬을 구하고 싶으면 2차원 matrix로 변환한 후 수행해야 한다.\n",
    "\n",
    "arr_transpose = arr.reshape(1,4).T\n",
    "print(arr_transpose)"
   ]
  },
  {
   "cell_type": "code",
   "execution_count": 3,
   "metadata": {},
   "outputs": [
    {
     "name": "stdout",
     "output_type": "stream",
     "text": [
      "1 2 3 4 5 1 2 3 4 5 "
     ]
    }
   ],
   "source": [
    "# ndarray iterator\n",
    "\n",
    "# ndarray의 모든 원소를 access하는 경우에 일반적으로 iterator를 이용.\n",
    "# iternext()와 finished 속성을 이용하여 ndarray의 모든 요소들을 순차적으로\n",
    "# access 할 수 있다.\n",
    "\n",
    "import numpy as np\n",
    "\n",
    "# 1차원 ndarray에 대한 요소 출력\n",
    "arr = np.array([1, 2, 3, 4, 5])\n",
    "\n",
    "for tmp in arr:\n",
    "    print(tmp, end=' ')\n",
    "    \n",
    "####################################    \n",
    "\n",
    "# 1차원 ndarray에 대한 iterator\n",
    "\n",
    "arr = np.array([1, 2, 3, 4, 5])\n",
    "\n",
    "it = np.nditer(arr, flags=['c_index'])\n",
    "\n",
    "while not it.finished:\n",
    "    \n",
    "    idx = it.index\n",
    "    \n",
    "    print(arr[idx], end=' ')\n",
    "    \n",
    "    it.iternext()"
   ]
  },
  {
   "cell_type": "code",
   "execution_count": 4,
   "metadata": {},
   "outputs": [
    {
     "name": "stdout",
     "output_type": "stream",
     "text": [
      "1 2 3 4 5 6 "
     ]
    }
   ],
   "source": [
    "####################################\n",
    "\n",
    "# 2차원 ndarray에 대한 요소 출력\n",
    "arr = np.array([[1,2,3], [4,5,6]])\n",
    "\n",
    "for tmp1 in range(arr.shape[0]):\n",
    "    for tmp2 in range(arr.shape[1]):\n",
    "        print(arr[tmp1,tmp2], end=' ')\n",
    "        "
   ]
  },
  {
   "cell_type": "code",
   "execution_count": 7,
   "metadata": {},
   "outputs": [
    {
     "name": "stdout",
     "output_type": "stream",
     "text": [
      "(0, 0) 1 (0, 1) 2 (0, 2) 3 (1, 0) 4 (1, 1) 5 (1, 2) 6 "
     ]
    }
   ],
   "source": [
    "####################################    \n",
    "\n",
    "# 2차원 ndarray에 대한 iterator\n",
    "\n",
    "arr = np.array([[1,2,3], [4,5,6]])\n",
    "\n",
    "it = np.nditer(arr, flags=['multi_index'])\n",
    "\n",
    "while not it.finished:\n",
    "    \n",
    "    idx = it.multi_index\n",
    "    print(idx, end=' ')\n",
    "    print(arr[idx], end=' ')\n",
    "    \n",
    "    it.iternext()        "
   ]
  },
  {
   "cell_type": "code",
   "execution_count": 9,
   "metadata": {},
   "outputs": [
    {
     "name": "stdout",
     "output_type": "stream",
     "text": [
      "[[9 0 8]\n",
      " [2 7 6]]\n",
      "[[4 2 8]\n",
      " [8 0 3]]\n",
      "[[False False  True]\n",
      " [False False False]]\n",
      "[[ True False False]\n",
      " [False  True  True]]\n",
      "[0 1 2 3 4 5 6 7 8 9]\n",
      "True\n"
     ]
    }
   ],
   "source": [
    "# 사칙연산과 마찬가지로 비교연산도 같은 index의 \n",
    "# 요소들끼리 수행된다.\n",
    "\n",
    "import numpy as np\n",
    "\n",
    "arr1 = np.random.randint(0,10,(2,3))\n",
    "arr2 = np.random.randint(0,10,(2,3))\n",
    "\n",
    "print(arr1)\n",
    "print(arr2)\n",
    "\n",
    "\n",
    "print(arr1 == arr2) # 논리 연산의 결과는 boolean\n",
    "print(arr1 > arr2)\n",
    "\n",
    "#######################\n",
    "\n",
    "# 2개의 ndarray 자체가 같은 데이터를 가지고 있는지\n",
    "# 비교할 때는 array_equal()을 사용한다.\n",
    "\n",
    "arr1 = np.arange(10)\n",
    "arr2 = np.arange(10)\n",
    "\n",
    "print(np.array_equal(arr1,arr2)) # 두 배열 전체 비교"
   ]
  },
  {
   "cell_type": "code",
   "execution_count": 10,
   "metadata": {},
   "outputs": [
    {
     "name": "stdout",
     "output_type": "stream",
     "text": [
      "[[1 2 3]\n",
      " [4 5 6]]\n",
      "21\n",
      "[ 1  3  6 10 15 21]\n",
      "3.5\n",
      "6\n",
      "1\n",
      "5\n",
      "0\n",
      "1.707825127659933\n",
      "[[1.         1.41421356 1.73205081]\n",
      " [2.         2.23606798 2.44948974]]\n",
      "[[  2.71828183   7.3890561   20.08553692]\n",
      " [ 54.59815003 148.4131591  403.42879349]]\n",
      "[[0.         0.30103    0.47712125]\n",
      " [0.60205999 0.69897    0.77815125]]\n",
      "[[0.         0.69314718 1.09861229]\n",
      " [1.38629436 1.60943791 1.79175947]]\n",
      "2.0\n",
      "0.9999698965391098\n",
      "[0.         0.30103    0.47712125 ... 3.99986969 3.99991313 3.99995657]\n"
     ]
    },
    {
     "data": {
      "image/png": "[encoded data removed]",
      "text/plain": [
       "<Figure size 432x288 with 1 Axes>"
      ]
     },
     "metadata": {
      "needs_background": "light"
     },
     "output_type": "display_data"
    }
   ],
   "source": [
    "# NumPy 함수와 axis\n",
    "\n",
    "import numpy as np\n",
    "import matplotlib.pyplot as plt\n",
    "\n",
    "arr = np.arange(1,7,1).reshape(2,3).copy()\n",
    "print(arr)\n",
    "\n",
    "print(np.sum(arr))        # 합, arr.sum()\n",
    "print(np.cumsum(arr))     # 누적합, arr.cumsum()\n",
    "print(np.mean(arr))       # 평균, arr.mean()\n",
    "print(np.max(arr))        # 최대값, arr.max() \n",
    "print(np.min(arr))        # 최소값, arr.min()\n",
    "print(np.argmax(arr))     # 최대값의 index => 5\n",
    "print(np.argmin(arr))     # 최소값의 index => 0\n",
    "print(np.std(arr))        # 표준편차, arr.std() \n",
    "print(np.sqrt(arr))       # 제곱근\n",
    "print(np.exp(arr))        # 자연상수의 제곱값 (자연상수 e = 2.7182...)\n",
    "print(np.log10(arr))      # 상용 log의 값\n",
    "print(np.log(arr))        # 자연 log의 값 (자연상수 e = 2.7182...)\n",
    "\n",
    "print(np.log10(100))      # 상용로그 \n",
    "print(np.log(2.7182))     # 자연로그 \n",
    "\n",
    "arr = np.arange(1,10000,1)\n",
    "arr1 = np.log10(arr)\n",
    "print(arr1)\n",
    "\n",
    "plt.plot(arr1)\n",
    "plt.show()\n"
   ]
  },
  {
   "cell_type": "code",
   "execution_count": 11,
   "metadata": {},
   "outputs": [
    {
     "name": "stdout",
     "output_type": "stream",
     "text": [
      "15\n",
      "[[1 2 3]\n",
      " [4 5 6]\n",
      " [7 8 9]]\n",
      "45\n",
      "[12 15 18]\n",
      "[ 6 15 24]\n",
      "[2 2 2]\n",
      "[[[3 3 3]\n",
      "  [3 0 0]]\n",
      "\n",
      " [[2 4 2]\n",
      "  [2 1 3]]]\n",
      "[[5 7 5]\n",
      " [5 1 3]]\n"
     ]
    }
   ],
   "source": [
    "# NumPy의 모든 집계함수는 axis를 기준으로 계산.\n",
    "# 만약 axis를 지정하지 않으면 axis는 None으로 간주하고\n",
    "# 대상범위를 전체 행렬로 지정\n",
    "\n",
    "import numpy as np\n",
    "\n",
    "arr1 = np.array([1,2,3,4,5])\n",
    "print(arr1.sum(axis=0)) # 1차원에서 axis=0은 열방향\n",
    "#print(arr1.sum(axis=1)) # 1차원에서 axis=1은 error\n",
    "\n",
    "arr1 = np.array([[1,2,3],[4,5,6],[7,8,9]])\n",
    "print(arr1)\n",
    "print(arr1.sum()) # axis=None, 전체배열대상 => 45\n",
    "print(arr1.sum(axis=0)) # 2차원에서 axis=0은 행방향, np.sum(arr1,axis=0)\n",
    "print(arr1.sum(axis=1)) # 2차원에서 axis=1은 열방향, np.sum(arr1,axis=1)\n",
    "print(arr1.argmax(axis=1)) # 열방향으로 최대값의 index => [2 2 2]\n",
    "\n",
    "arr1 = np.random.randint(0,5,(2,2,3))\n",
    "print(arr1)\n",
    "print(arr1.sum(axis=0)) # 3차원에서 axis=0은 depth방향"
   ]
  },
  {
   "cell_type": "code",
   "execution_count": 12,
   "metadata": {},
   "outputs": [
    {
     "data": {
      "text/plain": [
       "6"
      ]
     },
     "execution_count": 12,
     "metadata": {},
     "output_type": "execute_result"
    }
   ],
   "source": [
    "# Boolean Mask 활용\n",
    "\n",
    "import numpy as np\n",
    "\n",
    "arr = np.array([[1,2,3,4],\n",
    "                [5,6,7,8],\n",
    "                [9,10,11,12],\n",
    "                [13,14,15,16]])\n",
    "\n",
    "# ndarray arr안에 10보다 큰 수가 몇개있는지 알아보려면\n",
    "# 어떻게 해야 하는가?\n",
    "# 여러가지 방법이 있지만 가장 쉽고 빠른 방법은 \n",
    "# boolean indexing을 이용하는 방법\n",
    "\n",
    "# arr > 10 => boolean mask\n",
    "# True는 1로, False는 0으로 간주된다는 것을 기억하자.\n",
    "\n",
    "(arr > 10).sum()    # 조건을 만족하는 개수(True의 개수)\n"
   ]
  },
  {
   "cell_type": "code",
   "execution_count": 13,
   "metadata": {},
   "outputs": [
    {
     "name": "stdout",
     "output_type": "stream",
     "text": [
      "[5 0 3 8 6 1 2 7 9 4]\n",
      "[0 1 2 3 4 5 6 7 8 9]\n",
      "[9 8 7 6 5 4 3 2 1 0]\n",
      "[5 0 3 8 6 1 2 7 9 4]\n",
      "[[7 0 1]\n",
      " [9 0 2]\n",
      " [1 9 4]]\n",
      "[[1 0 1]\n",
      " [7 0 2]\n",
      " [9 9 4]]\n"
     ]
    }
   ],
   "source": [
    "# ndarray 정렬\n",
    "\n",
    "# NumPy의 array는 axis를 기준으로 정렬하는 sort() 제공\n",
    "# 만약 axis를 지정하지 않으면 -1, \n",
    "# -1의 의미는 마지막 axis\n",
    "# np.sort() : 정렬된 결과 배열을 return\n",
    "# arr.sort() : 원본배열을 정렬. None return\n",
    "\n",
    "import numpy as np\n",
    "\n",
    "arr = np.arange(10)\n",
    "np.random.shuffle(arr)      # shuffle 처리\n",
    "print(arr)\n",
    "\n",
    "print(np.sort(arr))         # 오름차순 정렬한 새로운 배열 return\n",
    "print(np.sort(arr)[::-1])   # 내림차순 정렬, 특수한 indexing이용\n",
    "print(arr)                  # 원본은 변함없음\n",
    "\n",
    "arr = np.random.randint(0,10,(3,3))\n",
    "print(arr)\n",
    "print(np.sort(arr, axis=0))\n"
   ]
  },
  {
   "cell_type": "code",
   "execution_count": 14,
   "metadata": {},
   "outputs": [
    {
     "name": "stdout",
     "output_type": "stream",
     "text": [
      "[[10  2 12  4]\n",
      " [15 16  3  8]\n",
      " [ 9  1 11  7]\n",
      " [13 14  5  6]]\n",
      "[[ 9  1  3  4]\n",
      " [10  2  5  6]\n",
      " [13 14 11  7]\n",
      " [15 16 12  8]]\n",
      "[[ 2  4 10 12]\n",
      " [ 3  8 15 16]\n",
      " [ 1  7  9 11]\n",
      " [ 5  6 13 14]]\n",
      "[2.49174926 2.42345284 2.26553794 2.2548781  2.08740321 2.04522158\n",
      " 1.96418017 1.90015681 1.8779944  1.83282487]\n"
     ]
    }
   ],
   "source": [
    "#################################\n",
    "\n",
    "# 2차원 배열 정렬\n",
    "import numpy as np\n",
    "\n",
    "arr = np.array([[10,2,12,4],\n",
    "                [15,16,3,8],\n",
    "                [9,1,11,7],\n",
    "                [13,14,5,6]])\n",
    "\n",
    "print(arr)\n",
    "print(np.sort(arr,axis=0))    # 행 방향 정렬\n",
    "print(np.sort(arr,axis=1))    # 열 방향 정렬\n",
    "\n",
    "# 표준정규분포에서 \n",
    "# 200개의 샘플을 추출한 후 \n",
    "# 내림차순으로 상위 5%까지의 결과만 출력하세요!!\n",
    "\n",
    "arr = np.random.randn(200)\n",
    "result = np.sort(arr)[::-1][:int(0.05 * len(arr))]\n",
    "print(result)"
   ]
  },
  {
   "cell_type": "code",
   "execution_count": 15,
   "metadata": {},
   "outputs": [
    {
     "name": "stdout",
     "output_type": "stream",
     "text": [
      "[[1 2 3]\n",
      " [4 5 6]\n",
      " [7 8 9]]\n"
     ]
    }
   ],
   "source": [
    "# NumPy concatenate() 함수\n",
    "\n",
    "# ndarray에 row(s) 또는 column(s)을 추가하기 위한 함수\n",
    "\n",
    "import numpy as np\n",
    "\n",
    "arr = np.array([[1,2,3], [4,5,6]])\n",
    "\n",
    "new_row = np.array([7,8,9])\n",
    "\n",
    "result = np.concatenate((arr,new_row.reshape(1,3)), axis=0)\n",
    "\n",
    "print(result)"
   ]
  },
  {
   "cell_type": "code",
   "execution_count": 16,
   "metadata": {},
   "outputs": [
    {
     "name": "stdout",
     "output_type": "stream",
     "text": [
      "[[ 1  2  3  7  8]\n",
      " [ 4  5  6  9 10]]\n"
     ]
    }
   ],
   "source": [
    "######################################\n",
    "\n",
    "arr = np.array([[1,2,3], [4,5,6]])\n",
    "\n",
    "new_col = np.array([7,8,9,10])\n",
    "\n",
    "result = np.concatenate((arr,new_col.reshape(2,2)), axis=1)\n",
    "\n",
    "print(result)\n",
    "\n"
   ]
  },
  {
   "cell_type": "code",
   "execution_count": 17,
   "metadata": {},
   "outputs": [
    {
     "name": "stdout",
     "output_type": "stream",
     "text": [
      "[[5 9 4 7]\n",
      " [7 9 1 1]\n",
      " [5 7 2 5]]\n",
      "[5 4 7 7 9 1 1 5 7 2 5]\n",
      "[[5 9 4 7]\n",
      " [5 7 2 5]]\n",
      "[[5 9 4]\n",
      " [7 9 1]\n",
      " [5 7 2]]\n"
     ]
    }
   ],
   "source": [
    "# ndarray delete() 함수\n",
    "\n",
    "# delete() 함수는 axis를 기준으로 행과 열을 삭제\n",
    "# axis를 지정하지 않으면 1차배열로 변환 후 삭제\n",
    "# 원본배열을 변경하지 않고 새로운 배열 return\n",
    "\n",
    "import numpy as np\n",
    "\n",
    "arr = np.random.randint(0,10,(3,4))\n",
    "print(arr)\n",
    "\n",
    "#####################\n",
    "\n",
    "result = np.delete(arr,1)  # 1차 배열로 변환 후 1번 index 삭제\n",
    "print(result)\n",
    "\n",
    "#####################\n",
    "\n",
    "result = np.delete(arr,1, axis=0)  # 1번 행 삭제\n",
    "print(result)\n",
    "\n",
    "#####################\n",
    "\n",
    "result = np.delete(arr,3, axis=1)  # 3번 열 삭제\n",
    "print(result)\n"
   ]
  },
  {
   "cell_type": "code",
   "execution_count": null,
   "metadata": {},
   "outputs": [],
   "source": []
  }
 ],
 "metadata": {
  "kernelspec": {
   "display_name": "pydatavenv",
   "language": "python",
   "name": "pydatavenv"
  },
  "language_info": {
   "codemirror_mode": {
    "name": "ipython",
    "version": 3
   },
   "file_extension": ".py",
   "mimetype": "text/x-python",
   "name": "python",
   "nbconvert_exporter": "python",
   "pygments_lexer": "ipython3",
   "version": "3.7.9"
  }
 },
 "nbformat": 4,
 "nbformat_minor": 4
}
